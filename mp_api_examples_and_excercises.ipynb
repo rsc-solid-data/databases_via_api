{
 "cells": [
  {
   "cell_type": "markdown",
   "id": "ab0e3be2",
   "metadata": {},
   "source": [
    "## An introduction to the Materials Project API\n",
    "\n",
    "The Materials Project is an open database of computed and experimental materials information, maintained by the Lawrence Berkeley National Laboratory. It provides crystal structures, thermodynamic data, electronic properties, and more for over 150,000 inorganic compounds. By exposing this wealth of data through a programmable interface, the Materials Project API lets you:\n",
    "\n",
    "- Query compositions and properties (e.g. band gaps, formation energies, elastic tensors) directly from Python or any HTTP client.\n",
    "- Download crystal structures in formats like CIF or POSCAR for further analysis.\n",
    "- Build phase diagrams, compute Pourbaix diagrams, or fetch provenance metadata for data-quality tracking.\n",
    "\n",
    "Because most entries arise from density functional theory (DFT) calculations, it’s important to bear in mind the usual DFT caveats—absolute energies may shift by tenths of an eV, and band gaps are typically underestimated. However, for exploring trends across chemical families, screening candidate materials, or automating data-driven workflows, the API is an indispensable tool.\n",
    "\n",
    "### Getting started: your API key\n",
    "\n",
    "1. Create a free account at https://materialsproject.org.\n",
    "2. After logging in, navigate to My Dashboard → API Key to reveal your personal key.\n",
    "3. Enter it in the cell below\n",
    "\n",
    "# Querying the materials project and simulating diffraction data"
   ]
  },
  {
   "cell_type": "code",
   "execution_count": 1,
   "id": "5f949ead",
   "metadata": {},
   "outputs": [],
   "source": [
    "API_KEY = \"YOUR_API_KEY\"  # Replace with your Materials Project API key"
   ]
  },
  {
   "cell_type": "markdown",
   "id": "48cd2227",
   "metadata": {},
   "source": [
    "We can queury lots of different information about the materials on there, just be mindful that it is all theoretical data, and while much of the information in there is useful, we should always treat it with caution, as it is done with highthroughput one-size-fits-all calculations, many systems require bespoke approaches to model accurately. Take the data with a pinch of salt, but trends should be useful!"
   ]
  },
  {
   "cell_type": "code",
   "execution_count": 2,
   "id": "1ceb1033",
   "metadata": {},
   "outputs": [
    {
     "name": "stdout",
     "output_type": "stream",
     "text": [
      "Materials Project summary fields you can query:\n",
      "\n",
      "1. builder_meta\n",
      "2. nsites\n",
      "3. elements\n",
      "4. nelements\n",
      "5. composition\n",
      "6. composition_reduced\n",
      "7. formula_pretty\n",
      "8. formula_anonymous\n",
      "9. chemsys\n",
      "10. volume\n",
      "11. density\n",
      "12. density_atomic\n",
      "13. symmetry\n",
      "14. property_name\n",
      "15. material_id\n",
      "16. deprecated\n",
      "17. deprecation_reasons\n",
      "18. last_updated\n",
      "19. origins\n",
      "20. warnings\n",
      "21. structure\n",
      "22. task_ids\n",
      "23. uncorrected_energy_per_atom\n",
      "24. energy_per_atom\n",
      "25. formation_energy_per_atom\n",
      "26. energy_above_hull\n",
      "27. is_stable\n",
      "28. equilibrium_reaction_energy_per_atom\n",
      "29. decomposes_to\n",
      "30. xas\n",
      "31. grain_boundaries\n",
      "32. band_gap\n",
      "33. cbm\n",
      "34. vbm\n",
      "35. efermi\n",
      "36. is_gap_direct\n",
      "37. is_metal\n",
      "38. es_source_calc_id\n",
      "39. bandstructure\n",
      "40. dos\n",
      "41. dos_energy_up\n",
      "42. dos_energy_down\n",
      "43. is_magnetic\n",
      "44. ordering\n",
      "45. total_magnetization\n",
      "46. total_magnetization_normalized_vol\n",
      "47. total_magnetization_normalized_formula_units\n",
      "48. num_magnetic_sites\n",
      "49. num_unique_magnetic_sites\n",
      "50. types_of_magnetic_species\n",
      "51. bulk_modulus\n",
      "52. shear_modulus\n",
      "53. universal_anisotropy\n",
      "54. homogeneous_poisson\n",
      "55. e_total\n",
      "56. e_ionic\n",
      "57. e_electronic\n",
      "58. n\n",
      "59. e_ij_max\n",
      "60. weighted_surface_energy_EV_PER_ANG2\n",
      "61. weighted_surface_energy\n",
      "62. weighted_work_function\n",
      "63. surface_anisotropy\n",
      "64. shape_factor\n",
      "65. has_reconstructed\n",
      "66. possible_species\n",
      "67. has_props\n",
      "68. theoretical\n",
      "69. database_IDs\n"
     ]
    },
    {
     "name": "stderr",
     "output_type": "stream",
     "text": [
      "/Users/alex/anaconda3/envs/work/lib/python3.10/site-packages/mp_api/client/mprester.py:230: UserWarning: mpcontribs-client not installed. Install the package to query MPContribs data, or construct pourbaix diagrams: 'pip install mpcontribs-client'\n",
      "  warnings.warn(\n"
     ]
    }
   ],
   "source": [
    "# 1. Import the client\n",
    "from mp_api.client import MPRester\n",
    "\n",
    "# 2. Open a connection using your already-loaded API_KEY\n",
    "with MPRester(API_KEY) as mpr:\n",
    "    # Ask the summary endpoint what fields you can request\n",
    "    available_fields = mpr.materials.summary.available_fields\n",
    "\n",
    "# 3. Show the result as a simple numbered list\n",
    "print(\"Materials Project summary fields you can query:\\n\")\n",
    "for i, field in enumerate(available_fields, start=1):\n",
    "    print(f\"{i}. {field}\")"
   ]
  },
  {
   "cell_type": "markdown",
   "id": "c226a7be",
   "metadata": {},
   "source": [
    "Explanation for Python beginners\n",
    "\n",
    "- **Import**: bring in the MPRester class from the new mp_api package.\n",
    "- **Connect**: use a with–block so Python automatically closes the connection when you’re done.\n",
    "- **Query**: `mpr.materials.summary.available_fields` returns a Python list of strings—each one is a property you can ask for when searching the Materials Project. You can see there is a lot of stuff in there!\n",
    "- **Print**: we loop over that list and print each field with a number in front so it’s easy to read.\n",
    "\n",
    "Now on to a nice and simple example! Let's find some data for NaCl, starting with the phase diagram."
   ]
  },
  {
   "cell_type": "code",
   "execution_count": 3,
   "id": "37258a9a",
   "metadata": {},
   "outputs": [
    {
     "data": {
      "application/vnd.jupyter.widget-view+json": {
       "model_id": "9697c3d560924936b2852f75c84c8004",
       "version_major": 2,
       "version_minor": 0
      },
      "text/plain": [
       "Retrieving SummaryDoc documents:   0%|          | 0/33 [00:00<?, ?it/s]"
      ]
     },
     "metadata": {},
     "output_type": "display_data"
    },
    {
     "data": {
      "application/vnd.jupyter.widget-view+json": {
       "model_id": "9897db4a834f44a08acf5fa7df099a18",
       "version_major": 2,
       "version_minor": 0
      },
      "text/plain": [
       "Retrieving ThermoDoc documents:   0%|          | 0/31 [00:00<?, ?it/s]"
      ]
     },
     "metadata": {},
     "output_type": "display_data"
    },
    {
     "data": {
      "application/vnd.plotly.v1+json": {
       "config": {
        "plotlyServerURL": "https://plot.ly"
       },
       "data": [
        {
         "hoverinfo": "none",
         "line": {
          "color": "black",
          "width": 4
         },
         "mode": "lines",
         "showlegend": false,
         "type": "scatter",
         "x": [
          0.5,
          1,
          null,
          0.5,
          0,
          null
         ],
         "y": [
          -2.0384011712500003,
          0,
          null,
          -2.0384011712500003,
          0,
          null
         ]
        },
        {
         "hoverinfo": "skip",
         "mode": "text",
         "name": "Labels (stable)",
         "opacity": 1,
         "showlegend": true,
         "text": [
          "NaCl"
         ],
         "textposition": [
          "bottom right"
         ],
         "type": "scatter",
         "visible": true,
         "x": [
          0.508
         ],
         "y": [
          -2.05140117125
         ]
        },
        {
         "error_y": {
          "array": [
           0,
           0,
           0
          ],
          "color": "gray",
          "thickness": 2.5,
          "type": "data",
          "width": 5
         },
         "hoverinfo": "text",
         "hoverlabel": {
          "font": {
           "size": 14
          }
         },
         "hovertext": [
          "NaCl (mp-22862-r2SCAN) <br>  Formation energy: -2.038 eV/atom <br>  (Stable)",
          "Cl<sub>2</sub> (mp-22848-r2SCAN) <br>  Formation energy: 0.0 eV/atom <br>  (Stable)",
          "Na (mp-10172-r2SCAN) <br>  Formation energy: 0.0 eV/atom <br>  (Stable)"
         ],
         "marker": {
          "color": "darkgreen",
          "line": {
           "color": "black",
           "width": 2
          },
          "size": 16
         },
         "mode": "markers",
         "name": "Stable",
         "opacity": 0.99,
         "showlegend": true,
         "type": "scatter",
         "x": [
          0.5,
          1,
          0
         ],
         "y": [
          -2.0384011712500003,
          0,
          0
         ]
        },
        {
         "hoverinfo": "text",
         "hoverlabel": {
          "font": {
           "size": 14
          }
         },
         "hovertext": [
          "Cl<sub>2</sub> (mp-570778-r2SCAN) <br>  Formation energy: 0.073 eV/atom <br>  Energy Above Hull: (+0.073 eV/atom)",
          "Na (mp-127-r2SCAN) <br>  Formation energy: 0.016 eV/atom <br>  Energy Above Hull: (+0.016 eV/atom)",
          "Na (mp-973198-r2SCAN) <br>  Formation energy: 0.005 eV/atom <br>  Energy Above Hull: (+0.005 eV/atom)",
          "Na (mp-1525464-r2SCAN) <br>  Formation energy: 0.015 eV/atom <br>  Energy Above Hull: (+0.015 eV/atom)",
          "Na (mp-567772-r2SCAN) <br>  Formation energy: 0.021 eV/atom <br>  Energy Above Hull: (+0.021 eV/atom)",
          "Na (mp-1079952-GGA) <br>  Formation energy: 0.086 eV/atom <br>  Energy Above Hull: (+0.086 eV/atom)",
          "NaCl (mp-22851-GGA) <br>  Formation energy: -1.884 eV/atom <br>  Energy Above Hull: (+0.154 eV/atom)"
         ],
         "marker": {
          "color": [
           0.073,
           0.016,
           0.005,
           0.015,
           0.021,
           0.086,
           0.154
          ],
          "colorscale": [
           [
            0,
            "#fff5e3"
           ],
           [
            0.5,
            "#f24324"
           ],
           [
            1,
            "#c40000"
           ]
          ],
          "line": {
           "color": "black",
           "width": 1
          },
          "opacity": 0.8,
          "size": 7,
          "symbol": "diamond"
         },
         "mode": "markers",
         "name": "Above Hull",
         "showlegend": true,
         "type": "scatter",
         "x": [
          1,
          0,
          0,
          0,
          0,
          0,
          0.5
         ],
         "y": [
          0.07299328437499941,
          0.01577226999999981,
          0.004727346666666558,
          0.014505351249999965,
          0.02055526125000018,
          0.08631179719827564,
          -1.8840123312500001
         ]
        }
       ],
       "layout": {
        "annotations": [
         {
          "align": "center",
          "font": {
           "color": "#000000",
           "size": 24
          },
          "opacity": 1,
          "showarrow": false,
          "text": "Cl",
          "x": 1.03,
          "xref": "x",
          "y": -0.03,
          "yref": "y"
         },
         {
          "align": "center",
          "font": {
           "color": "#000000",
           "size": 24
          },
          "opacity": 1,
          "showarrow": false,
          "text": "Na",
          "x": -0.03,
          "xref": "x",
          "y": -0.03,
          "yref": "y"
         }
        ],
        "autosize": true,
        "coloraxis": {
         "colorbar": {
          "x": 1,
          "y": 0.05,
          "yanchor": "top"
         }
        },
        "hovermode": "closest",
        "legend": {
         "orientation": "h",
         "tracegroupgap": 7,
         "traceorder": "reversed",
         "x": 0,
         "xanchor": "left",
         "y": 1.05
        },
        "margin": {
         "b": 10,
         "l": 10,
         "pad": 0,
         "r": 10,
         "t": 0
        },
        "paper_bgcolor": "rgba(0,0,0,0)",
        "plot_bgcolor": "rgba(0,0,0,0)",
        "showlegend": true,
        "template": {
         "data": {
          "bar": [
           {
            "error_x": {
             "color": "#2a3f5f"
            },
            "error_y": {
             "color": "#2a3f5f"
            },
            "marker": {
             "line": {
              "color": "#E5ECF6",
              "width": 0.5
             },
             "pattern": {
              "fillmode": "overlay",
              "size": 10,
              "solidity": 0.2
             }
            },
            "type": "bar"
           }
          ],
          "barpolar": [
           {
            "marker": {
             "line": {
              "color": "#E5ECF6",
              "width": 0.5
             },
             "pattern": {
              "fillmode": "overlay",
              "size": 10,
              "solidity": 0.2
             }
            },
            "type": "barpolar"
           }
          ],
          "carpet": [
           {
            "aaxis": {
             "endlinecolor": "#2a3f5f",
             "gridcolor": "white",
             "linecolor": "white",
             "minorgridcolor": "white",
             "startlinecolor": "#2a3f5f"
            },
            "baxis": {
             "endlinecolor": "#2a3f5f",
             "gridcolor": "white",
             "linecolor": "white",
             "minorgridcolor": "white",
             "startlinecolor": "#2a3f5f"
            },
            "type": "carpet"
           }
          ],
          "choropleth": [
           {
            "colorbar": {
             "outlinewidth": 0,
             "ticks": ""
            },
            "type": "choropleth"
           }
          ],
          "contour": [
           {
            "colorbar": {
             "outlinewidth": 0,
             "ticks": ""
            },
            "colorscale": [
             [
              0,
              "#0d0887"
             ],
             [
              0.1111111111111111,
              "#46039f"
             ],
             [
              0.2222222222222222,
              "#7201a8"
             ],
             [
              0.3333333333333333,
              "#9c179e"
             ],
             [
              0.4444444444444444,
              "#bd3786"
             ],
             [
              0.5555555555555556,
              "#d8576b"
             ],
             [
              0.6666666666666666,
              "#ed7953"
             ],
             [
              0.7777777777777778,
              "#fb9f3a"
             ],
             [
              0.8888888888888888,
              "#fdca26"
             ],
             [
              1,
              "#f0f921"
             ]
            ],
            "type": "contour"
           }
          ],
          "contourcarpet": [
           {
            "colorbar": {
             "outlinewidth": 0,
             "ticks": ""
            },
            "type": "contourcarpet"
           }
          ],
          "heatmap": [
           {
            "colorbar": {
             "outlinewidth": 0,
             "ticks": ""
            },
            "colorscale": [
             [
              0,
              "#0d0887"
             ],
             [
              0.1111111111111111,
              "#46039f"
             ],
             [
              0.2222222222222222,
              "#7201a8"
             ],
             [
              0.3333333333333333,
              "#9c179e"
             ],
             [
              0.4444444444444444,
              "#bd3786"
             ],
             [
              0.5555555555555556,
              "#d8576b"
             ],
             [
              0.6666666666666666,
              "#ed7953"
             ],
             [
              0.7777777777777778,
              "#fb9f3a"
             ],
             [
              0.8888888888888888,
              "#fdca26"
             ],
             [
              1,
              "#f0f921"
             ]
            ],
            "type": "heatmap"
           }
          ],
          "heatmapgl": [
           {
            "colorbar": {
             "outlinewidth": 0,
             "ticks": ""
            },
            "colorscale": [
             [
              0,
              "#0d0887"
             ],
             [
              0.1111111111111111,
              "#46039f"
             ],
             [
              0.2222222222222222,
              "#7201a8"
             ],
             [
              0.3333333333333333,
              "#9c179e"
             ],
             [
              0.4444444444444444,
              "#bd3786"
             ],
             [
              0.5555555555555556,
              "#d8576b"
             ],
             [
              0.6666666666666666,
              "#ed7953"
             ],
             [
              0.7777777777777778,
              "#fb9f3a"
             ],
             [
              0.8888888888888888,
              "#fdca26"
             ],
             [
              1,
              "#f0f921"
             ]
            ],
            "type": "heatmapgl"
           }
          ],
          "histogram": [
           {
            "marker": {
             "pattern": {
              "fillmode": "overlay",
              "size": 10,
              "solidity": 0.2
             }
            },
            "type": "histogram"
           }
          ],
          "histogram2d": [
           {
            "colorbar": {
             "outlinewidth": 0,
             "ticks": ""
            },
            "colorscale": [
             [
              0,
              "#0d0887"
             ],
             [
              0.1111111111111111,
              "#46039f"
             ],
             [
              0.2222222222222222,
              "#7201a8"
             ],
             [
              0.3333333333333333,
              "#9c179e"
             ],
             [
              0.4444444444444444,
              "#bd3786"
             ],
             [
              0.5555555555555556,
              "#d8576b"
             ],
             [
              0.6666666666666666,
              "#ed7953"
             ],
             [
              0.7777777777777778,
              "#fb9f3a"
             ],
             [
              0.8888888888888888,
              "#fdca26"
             ],
             [
              1,
              "#f0f921"
             ]
            ],
            "type": "histogram2d"
           }
          ],
          "histogram2dcontour": [
           {
            "colorbar": {
             "outlinewidth": 0,
             "ticks": ""
            },
            "colorscale": [
             [
              0,
              "#0d0887"
             ],
             [
              0.1111111111111111,
              "#46039f"
             ],
             [
              0.2222222222222222,
              "#7201a8"
             ],
             [
              0.3333333333333333,
              "#9c179e"
             ],
             [
              0.4444444444444444,
              "#bd3786"
             ],
             [
              0.5555555555555556,
              "#d8576b"
             ],
             [
              0.6666666666666666,
              "#ed7953"
             ],
             [
              0.7777777777777778,
              "#fb9f3a"
             ],
             [
              0.8888888888888888,
              "#fdca26"
             ],
             [
              1,
              "#f0f921"
             ]
            ],
            "type": "histogram2dcontour"
           }
          ],
          "mesh3d": [
           {
            "colorbar": {
             "outlinewidth": 0,
             "ticks": ""
            },
            "type": "mesh3d"
           }
          ],
          "parcoords": [
           {
            "line": {
             "colorbar": {
              "outlinewidth": 0,
              "ticks": ""
             }
            },
            "type": "parcoords"
           }
          ],
          "pie": [
           {
            "automargin": true,
            "type": "pie"
           }
          ],
          "scatter": [
           {
            "fillpattern": {
             "fillmode": "overlay",
             "size": 10,
             "solidity": 0.2
            },
            "type": "scatter"
           }
          ],
          "scatter3d": [
           {
            "line": {
             "colorbar": {
              "outlinewidth": 0,
              "ticks": ""
             }
            },
            "marker": {
             "colorbar": {
              "outlinewidth": 0,
              "ticks": ""
             }
            },
            "type": "scatter3d"
           }
          ],
          "scattercarpet": [
           {
            "marker": {
             "colorbar": {
              "outlinewidth": 0,
              "ticks": ""
             }
            },
            "type": "scattercarpet"
           }
          ],
          "scattergeo": [
           {
            "marker": {
             "colorbar": {
              "outlinewidth": 0,
              "ticks": ""
             }
            },
            "type": "scattergeo"
           }
          ],
          "scattergl": [
           {
            "marker": {
             "colorbar": {
              "outlinewidth": 0,
              "ticks": ""
             }
            },
            "type": "scattergl"
           }
          ],
          "scattermapbox": [
           {
            "marker": {
             "colorbar": {
              "outlinewidth": 0,
              "ticks": ""
             }
            },
            "type": "scattermapbox"
           }
          ],
          "scatterpolar": [
           {
            "marker": {
             "colorbar": {
              "outlinewidth": 0,
              "ticks": ""
             }
            },
            "type": "scatterpolar"
           }
          ],
          "scatterpolargl": [
           {
            "marker": {
             "colorbar": {
              "outlinewidth": 0,
              "ticks": ""
             }
            },
            "type": "scatterpolargl"
           }
          ],
          "scatterternary": [
           {
            "marker": {
             "colorbar": {
              "outlinewidth": 0,
              "ticks": ""
             }
            },
            "type": "scatterternary"
           }
          ],
          "surface": [
           {
            "colorbar": {
             "outlinewidth": 0,
             "ticks": ""
            },
            "colorscale": [
             [
              0,
              "#0d0887"
             ],
             [
              0.1111111111111111,
              "#46039f"
             ],
             [
              0.2222222222222222,
              "#7201a8"
             ],
             [
              0.3333333333333333,
              "#9c179e"
             ],
             [
              0.4444444444444444,
              "#bd3786"
             ],
             [
              0.5555555555555556,
              "#d8576b"
             ],
             [
              0.6666666666666666,
              "#ed7953"
             ],
             [
              0.7777777777777778,
              "#fb9f3a"
             ],
             [
              0.8888888888888888,
              "#fdca26"
             ],
             [
              1,
              "#f0f921"
             ]
            ],
            "type": "surface"
           }
          ],
          "table": [
           {
            "cells": {
             "fill": {
              "color": "#EBF0F8"
             },
             "line": {
              "color": "white"
             }
            },
            "header": {
             "fill": {
              "color": "#C8D4E3"
             },
             "line": {
              "color": "white"
             }
            },
            "type": "table"
           }
          ]
         },
         "layout": {
          "annotationdefaults": {
           "arrowcolor": "#2a3f5f",
           "arrowhead": 0,
           "arrowwidth": 1
          },
          "autotypenumbers": "strict",
          "coloraxis": {
           "colorbar": {
            "outlinewidth": 0,
            "ticks": ""
           }
          },
          "colorscale": {
           "diverging": [
            [
             0,
             "#8e0152"
            ],
            [
             0.1,
             "#c51b7d"
            ],
            [
             0.2,
             "#de77ae"
            ],
            [
             0.3,
             "#f1b6da"
            ],
            [
             0.4,
             "#fde0ef"
            ],
            [
             0.5,
             "#f7f7f7"
            ],
            [
             0.6,
             "#e6f5d0"
            ],
            [
             0.7,
             "#b8e186"
            ],
            [
             0.8,
             "#7fbc41"
            ],
            [
             0.9,
             "#4d9221"
            ],
            [
             1,
             "#276419"
            ]
           ],
           "sequential": [
            [
             0,
             "#0d0887"
            ],
            [
             0.1111111111111111,
             "#46039f"
            ],
            [
             0.2222222222222222,
             "#7201a8"
            ],
            [
             0.3333333333333333,
             "#9c179e"
            ],
            [
             0.4444444444444444,
             "#bd3786"
            ],
            [
             0.5555555555555556,
             "#d8576b"
            ],
            [
             0.6666666666666666,
             "#ed7953"
            ],
            [
             0.7777777777777778,
             "#fb9f3a"
            ],
            [
             0.8888888888888888,
             "#fdca26"
            ],
            [
             1,
             "#f0f921"
            ]
           ],
           "sequentialminus": [
            [
             0,
             "#0d0887"
            ],
            [
             0.1111111111111111,
             "#46039f"
            ],
            [
             0.2222222222222222,
             "#7201a8"
            ],
            [
             0.3333333333333333,
             "#9c179e"
            ],
            [
             0.4444444444444444,
             "#bd3786"
            ],
            [
             0.5555555555555556,
             "#d8576b"
            ],
            [
             0.6666666666666666,
             "#ed7953"
            ],
            [
             0.7777777777777778,
             "#fb9f3a"
            ],
            [
             0.8888888888888888,
             "#fdca26"
            ],
            [
             1,
             "#f0f921"
            ]
           ]
          },
          "colorway": [
           "#636efa",
           "#EF553B",
           "#00cc96",
           "#ab63fa",
           "#FFA15A",
           "#19d3f3",
           "#FF6692",
           "#B6E880",
           "#FF97FF",
           "#FECB52"
          ],
          "font": {
           "color": "#2a3f5f"
          },
          "geo": {
           "bgcolor": "white",
           "lakecolor": "white",
           "landcolor": "#E5ECF6",
           "showlakes": true,
           "showland": true,
           "subunitcolor": "white"
          },
          "hoverlabel": {
           "align": "left"
          },
          "hovermode": "closest",
          "mapbox": {
           "style": "light"
          },
          "paper_bgcolor": "white",
          "plot_bgcolor": "#E5ECF6",
          "polar": {
           "angularaxis": {
            "gridcolor": "white",
            "linecolor": "white",
            "ticks": ""
           },
           "bgcolor": "#E5ECF6",
           "radialaxis": {
            "gridcolor": "white",
            "linecolor": "white",
            "ticks": ""
           }
          },
          "scene": {
           "xaxis": {
            "backgroundcolor": "#E5ECF6",
            "gridcolor": "white",
            "gridwidth": 2,
            "linecolor": "white",
            "showbackground": true,
            "ticks": "",
            "zerolinecolor": "white"
           },
           "yaxis": {
            "backgroundcolor": "#E5ECF6",
            "gridcolor": "white",
            "gridwidth": 2,
            "linecolor": "white",
            "showbackground": true,
            "ticks": "",
            "zerolinecolor": "white"
           },
           "zaxis": {
            "backgroundcolor": "#E5ECF6",
            "gridcolor": "white",
            "gridwidth": 2,
            "linecolor": "white",
            "showbackground": true,
            "ticks": "",
            "zerolinecolor": "white"
           }
          },
          "shapedefaults": {
           "line": {
            "color": "#2a3f5f"
           }
          },
          "ternary": {
           "aaxis": {
            "gridcolor": "white",
            "linecolor": "white",
            "ticks": ""
           },
           "baxis": {
            "gridcolor": "white",
            "linecolor": "white",
            "ticks": ""
           },
           "bgcolor": "#E5ECF6",
           "caxis": {
            "gridcolor": "white",
            "linecolor": "white",
            "ticks": ""
           }
          },
          "title": {
           "x": 0.05
          },
          "xaxis": {
           "automargin": true,
           "gridcolor": "white",
           "linecolor": "white",
           "ticks": "",
           "title": {
            "standoff": 15
           },
           "zerolinecolor": "white",
           "zerolinewidth": 2
          },
          "yaxis": {
           "automargin": true,
           "gridcolor": "white",
           "linecolor": "white",
           "ticks": "",
           "title": {
            "standoff": 15
           },
           "zerolinecolor": "white",
           "zerolinewidth": 2
          }
         }
        },
        "xaxis": {
         "anchor": "y",
         "gridcolor": "rgba(0,0,0,0.1)",
         "mirror": "ticks",
         "nticks": 8,
         "showgrid": true,
         "showline": true,
         "side": "bottom",
         "tickfont": {
          "size": 16
         },
         "ticks": "inside",
         "title": {
          "font": {
           "color": "#000000",
           "size": 20
          },
          "text": "Composition (Fraction Cl)"
         },
         "type": "linear",
         "zeroline": false
        },
        "yaxis": {
         "anchor": "x",
         "gridcolor": "rgba(0,0,0,0.1)",
         "mirror": "ticks",
         "showgrid": true,
         "showline": true,
         "side": "left",
         "tickfont": {
          "size": 16
         },
         "ticks": "inside",
         "title": {
          "font": {
           "color": "#000000",
           "size": 20
          },
          "text": "Formation energy (eV/atom)"
         },
         "type": "linear"
        }
       }
      }
     },
     "metadata": {},
     "output_type": "display_data"
    }
   ],
   "source": [
    "from mp_api.client import MPRester\n",
    "from pymatgen.analysis.phase_diagram import PhaseDiagram, PDPlotter\n",
    "\n",
    "# 1. Define your chemical system (here: Na–Cl)\n",
    "chemsys = [\"Na\", \"Cl\", \"Na-Cl\"]\n",
    "\n",
    "# 2. Connect and fetch only experimentally observed Na–Cl entries\n",
    "with MPRester(API_KEY) as mpr:\n",
    "    # We ask for material_id and check for theoretical entries\n",
    "    # Theoretical entries are those that are not experimentally observed\n",
    "    # We filter out theoretical entries by checking the 'theoretical' field.\n",
    "    # Here we do this just for simplicities sake and to see how we can filter entries.\n",
    "    docs = mpr.materials.summary.search(\n",
    "        chemsys=chemsys,\n",
    "        fields=[\"material_id\", \"theoretical\"]\n",
    "    )\n",
    "    exp_ids = [d.material_id for d in docs if d.theoretical is False] # Filter out theoretical entries\n",
    "\n",
    "# 3. Download full entry data for those IDs, these entries contain all the information we need\n",
    "# to build the phase diagram\n",
    "with MPRester(API_KEY) as mpr:\n",
    "    exp_entries = mpr.get_entries(exp_ids)\n",
    "\n",
    "# 4. Build and show the phase diagram\n",
    "pd_exp = PhaseDiagram(exp_entries)\n",
    "plotter = PDPlotter(pd_exp)\n",
    "plotter.show()"
   ]
  },
  {
   "cell_type": "markdown",
   "id": "c8cd2704",
   "metadata": {},
   "source": [
    "### What happens here?\n",
    "\n",
    "- **Chemical system definition**: We specify Na–Cl via chemsys.\n",
    "- **Filtering for experiment**: We pull material_id and theoretical, then keep only those where theoretical is False, so in this simple example there won't be any strange computational predictions!\n",
    "- **Data retrieval**: We fetch full ComputedEntry objects for these IDs, this contains many of the calculated properties of the experimental Na-Cl phases\n",
    "- **Phase diagram**: Having recovered the entries we compute and display the convex hull phase diagram!\n",
    "\n",
    "We can recover the structures from the entries, and then manipulate and analyse these structures, e.g. predict their XRD patterns, which is what we will do next, using [pymatgen](https://pymatgen.org/), the code that powers the materials project. "
   ]
  },
  {
   "cell_type": "code",
   "execution_count": 4,
   "id": "bdfe38f7",
   "metadata": {},
   "outputs": [
    {
     "data": {
      "image/png": "[encoded data removed]",
      "text/plain": [
       "<Figure size 800x500 with 1 Axes>"
      ]
     },
     "metadata": {},
     "output_type": "display_data"
    }
   ],
   "source": [
    "from pymatgen.analysis.diffraction.xrd import XRDCalculator\n",
    "import numpy as np\n",
    "import matplotlib.pyplot as plt\n",
    "\n",
    "# 1. Compute XRD patterns \n",
    "# Initialize the XRD calculator using Cu Kα radiation (λ ≈ 1.5406 Å)\n",
    "xrd_calc = XRDCalculator(wavelength=\"CuKa\")\n",
    "entries = [e for e in exp_entries if e.reduced_formula == \"NaCl\"]\n",
    "patterns = [xrd_calc.get_pattern(e.structure) for e in entries]\n",
    "\n",
    "# Define colors manually if needed\n",
    "colors = [\"C0\", \"C1\"]\n",
    "\n",
    "# 2. Extract energy per atom for labeling (not used for alpha anymore)\n",
    "energies = np.array([e.energy_per_atom for e in entries])\n",
    "\n",
    "# 3. Plot using stem() with uniform opacity\n",
    "plt.figure(figsize=(8, 5))\n",
    "for pat, epa, color in zip(patterns, energies, colors):\n",
    "    markerline, stemlines, baseline = plt.stem(\n",
    "        pat.x,\n",
    "        pat.y / pat.y.max(),  # normalize intensity\n",
    "        basefmt=\" \"           # hide baseline\n",
    "    )\n",
    "    plt.setp(markerline, color=color)\n",
    "    plt.setp(stemlines, color=color)\n",
    "\n",
    "plt.xlabel(\"2θ (°)\")\n",
    "plt.ylabel(\"Normalized intensity\")\n",
    "plt.title(\"NaCl XRD patterns (experimental entries only)\")\n",
    "plt.xlim(10, 80)\n",
    "plt.tight_layout()\n",
    "plt.show()\n",
    "\n",
    "for entry in entries:\n",
    "    spacegroup = entry.structure.get_space_group_info()[1]\n",
    "    entry.structure.to(filename=f\"{entry.reduced_formula}_{spacegroup}.cif\")\n"
   ]
  },
  {
   "cell_type": "markdown",
   "id": "0f260835",
   "metadata": {},
   "source": [
    "Here we can see there are two entries for the NaCl composition, one, the expected Rocksalt structure, what's the other? It's experimentally observed, what conditions does it exist under? See if you can find some experimental data to compare to to work out which is which."
   ]
  },
  {
   "cell_type": "markdown",
   "id": "7b228b20",
   "metadata": {},
   "source": [
    "### ZnS\n",
    "\n",
    "This example fetches materials in the Zn–S chemical system from the Materials Project API, then builds the phase diagram. If you \"zoom in\" on the 50:50 composition structure, we can see that there are many low energy structures that are likely experimentally observable. ZnS has at least two polymorphs, zincblende and wurtzite. Lets see if we can pull these out and work out which is which, will it be as simple as NaCl? \n"
   ]
  },
  {
   "cell_type": "code",
   "execution_count": 5,
   "id": "3fe5d78a",
   "metadata": {},
   "outputs": [
    {
     "name": "stderr",
     "output_type": "stream",
     "text": [
      "/Users/alex/anaconda3/envs/work/lib/python3.10/site-packages/mp_api/client/mprester.py:230: UserWarning:\n",
      "\n",
      "mpcontribs-client not installed. Install the package to query MPContribs data, or construct pourbaix diagrams: 'pip install mpcontribs-client'\n",
      "\n"
     ]
    },
    {
     "data": {
      "application/vnd.jupyter.widget-view+json": {
       "model_id": "801bfc43eec6422e9821ca6ed891cb98",
       "version_major": 2,
       "version_minor": 0
      },
      "text/plain": [
       "Retrieving SummaryDoc documents:   0%|          | 0/186 [00:00<?, ?it/s]"
      ]
     },
     "metadata": {},
     "output_type": "display_data"
    },
    {
     "data": {
      "application/vnd.jupyter.widget-view+json": {
       "model_id": "23be626f8ff24fb6aae6aded28675e28",
       "version_major": 2,
       "version_minor": 0
      },
      "text/plain": [
       "Retrieving ThermoDoc documents:   0%|          | 0/463 [00:00<?, ?it/s]"
      ]
     },
     "metadata": {},
     "output_type": "display_data"
    },
    {
     "data": {
      "application/vnd.plotly.v1+json": {
       "config": {
        "plotlyServerURL": "https://plot.ly"
       },
       "data": [
        {
         "hoverinfo": "none",
         "line": {
          "color": "black",
          "width": 4
         },
         "mode": "lines",
         "showlegend": false,
         "type": "scatter",
         "x": [
          0.5,
          1,
          null,
          0.5,
          0,
          null
         ],
         "y": [
          -0.9626983496205342,
          0,
          null,
          -0.9626983496205342,
          0,
          null
         ]
        },
        {
         "hoverinfo": "skip",
         "mode": "text",
         "name": "Labels (stable)",
         "opacity": 1,
         "showlegend": true,
         "text": [
          "ZnS"
         ],
         "textposition": [
          "bottom right"
         ],
         "type": "scatter",
         "visible": true,
         "x": [
          0.508
         ],
         "y": [
          -0.9756983496205343
         ]
        },
        {
         "error_y": {
          "array": [
           0,
           0,
           0
          ],
          "color": "gray",
          "thickness": 2.5,
          "type": "data",
          "width": 5
         },
         "hoverinfo": "text",
         "hoverlabel": {
          "font": {
           "size": 14
          }
         },
         "hovertext": [
          "ZnS (mp-554820-r2SCAN) <br>  Formation energy: -0.963 eV/atom <br>  (Stable)",
          "S (mp-77-r2SCAN) <br>  Formation energy: 0.0 eV/atom <br>  (Stable)",
          "Zn (mp-79-r2SCAN) <br>  Formation energy: 0.0 eV/atom <br>  (Stable)"
         ],
         "marker": {
          "color": "darkgreen",
          "line": {
           "color": "black",
           "width": 2
          },
          "size": 16
         },
         "mode": "markers",
         "name": "Stable",
         "opacity": 0.99,
         "showlegend": true,
         "type": "scatter",
         "x": [
          0.5,
          1,
          0
         ],
         "y": [
          -0.9626983496205342,
          0,
          0
         ]
        },
        {
         "hoverinfo": "text",
         "hoverlabel": {
          "font": {
           "size": 14
          }
         },
         "hovertext": [
          "S (mp-96-r2SCAN) <br>  Formation energy: 0.001 eV/atom <br>  Energy Above Hull: (+0.001 eV/atom)",
          "S (mp-994911-r2SCAN) <br>  Formation energy: 0.042 eV/atom <br>  Energy Above Hull: (+0.042 eV/atom)",
          "S (mp-1196831-GGA) <br>  Formation energy: 0.011 eV/atom <br>  Energy Above Hull: (+0.011 eV/atom)",
          "S (mp-1977409-r2SCAN) <br>  Formation energy: 0.006 eV/atom <br>  Energy Above Hull: (+0.006 eV/atom)",
          "S (mp-555760-r2SCAN) <br>  Formation energy: 0.029 eV/atom <br>  Energy Above Hull: (+0.029 eV/atom)",
          "S (mp-555915-r2SCAN) <br>  Formation energy: 0.014 eV/atom <br>  Energy Above Hull: (+0.014 eV/atom)",
          "S (mp-556269-r2SCAN) <br>  Formation energy: 0.031 eV/atom <br>  Energy Above Hull: (+0.031 eV/atom)",
          "S (mp-557031-r2SCAN) <br>  Formation energy: 0.034 eV/atom <br>  Energy Above Hull: (+0.034 eV/atom)",
          "S (mp-557376-r2SCAN) <br>  Formation energy: 0.027 eV/atom <br>  Energy Above Hull: (+0.027 eV/atom)",
          "S (mp-557488-r2SCAN) <br>  Formation energy: 0.012 eV/atom <br>  Energy Above Hull: (+0.012 eV/atom)",
          "S (mp-557559-r2SCAN) <br>  Formation energy: 0.03 eV/atom <br>  Energy Above Hull: (+0.03 eV/atom)",
          "S (mp-557869-r2SCAN) <br>  Formation energy: 0.0 eV/atom <br>  Energy Above Hull: (+0.0 eV/atom)",
          "S (mp-558014-r2SCAN) <br>  Formation energy: 0.01 eV/atom <br>  Energy Above Hull: (+0.01 eV/atom)",
          "S (mp-558964-r2SCAN) <br>  Formation energy: 0.014 eV/atom <br>  Energy Above Hull: (+0.014 eV/atom)",
          "S (mp-561370-r2SCAN) <br>  Formation energy: 0.028 eV/atom <br>  Energy Above Hull: (+0.028 eV/atom)",
          "S (mp-561513-r2SCAN) <br>  Formation energy: 0.019 eV/atom <br>  Energy Above Hull: (+0.019 eV/atom)",
          "S (mp-583072-r2SCAN) <br>  Formation energy: 0.026 eV/atom <br>  Energy Above Hull: (+0.026 eV/atom)",
          "S (mp-666931-GGA) <br>  Formation energy: 0.021 eV/atom <br>  Energy Above Hull: (+0.021 eV/atom)",
          "S (mp-7-r2SCAN) <br>  Formation energy: 0.051 eV/atom <br>  Energy Above Hull: (+0.051 eV/atom)",
          "S (mp-83-r2SCAN) <br>  Formation energy: 0.029 eV/atom <br>  Energy Above Hull: (+0.029 eV/atom)",
          "Zn (mp-1187812-r2SCAN) <br>  Formation energy: 0.007 eV/atom <br>  Energy Above Hull: (+0.007 eV/atom)",
          "Zn (mp-1244987-GGA) <br>  Formation energy: 0.058 eV/atom <br>  Energy Above Hull: (+0.058 eV/atom)",
          "Zn (mp-1245093-GGA) <br>  Formation energy: 0.055 eV/atom <br>  Energy Above Hull: (+0.055 eV/atom)",
          "Zn (mp-1245184-GGA) <br>  Formation energy: 0.049 eV/atom <br>  Energy Above Hull: (+0.049 eV/atom)",
          "Zn (mp-1245266-GGA) <br>  Formation energy: 0.052 eV/atom <br>  Energy Above Hull: (+0.052 eV/atom)",
          "Zn (mp-2646972-GGA) <br>  Formation energy: 0.005 eV/atom <br>  Energy Above Hull: (+0.005 eV/atom)",
          "Zn (mp-2647117-GGA) <br>  Formation energy: 0.072 eV/atom <br>  Energy Above Hull: (+0.072 eV/atom)",
          "ZnS (mp-561258-r2SCAN) <br>  Formation energy: -0.962 eV/atom <br>  Energy Above Hull: (+0.0 eV/atom)",
          "ZnS (mp-561286-r2SCAN) <br>  Formation energy: -0.963 eV/atom <br>  Energy Above Hull: (+0.0 eV/atom)",
          "ZnS (mp-581258-GGA) <br>  Formation energy: -0.951 eV/atom <br>  Energy Above Hull: (+0.012 eV/atom)",
          "ZnS (mp-581405-GGA) <br>  Formation energy: -0.962 eV/atom <br>  Energy Above Hull: (+0.001 eV/atom)",
          "ZnS (mp-581412-GGA) <br>  Formation energy: -0.951 eV/atom <br>  Energy Above Hull: (+0.011 eV/atom)",
          "ZnS (mp-581425-GGA) <br>  Formation energy: -0.962 eV/atom <br>  Energy Above Hull: (+0.001 eV/atom)",
          "ZnS (mp-581476-GGA) <br>  Formation energy: -0.951 eV/atom <br>  Energy Above Hull: (+0.011 eV/atom)",
          "ZnS (mp-581601-GGA) <br>  Formation energy: -0.951 eV/atom <br>  Energy Above Hull: (+0.011 eV/atom)",
          "ZnS (mp-581602-GGA) <br>  Formation energy: -0.951 eV/atom <br>  Energy Above Hull: (+0.012 eV/atom)",
          "ZnS (mp-582680-GGA) <br>  Formation energy: -0.962 eV/atom <br>  Energy Above Hull: (+0.001 eV/atom)",
          "ZnS (mp-608468-GGA) <br>  Formation energy: -0.911 eV/atom <br>  Energy Above Hull: (+0.052 eV/atom)",
          "ZnS (mp-647075-GGA) <br>  Formation energy: -0.962 eV/atom <br>  Energy Above Hull: (+0.001 eV/atom)",
          "ZnS (mp-680085-GGA) <br>  Formation energy: -0.962 eV/atom <br>  Energy Above Hull: (+0.0 eV/atom)",
          "ZnS (mp-680087-GGA) <br>  Formation energy: -0.962 eV/atom <br>  Energy Above Hull: (+0.001 eV/atom)",
          "ZnS (mp-9946-r2SCAN) <br>  Formation energy: -0.962 eV/atom <br>  Energy Above Hull: (+0.001 eV/atom)",
          "ZnS (mp-555594-r2SCAN) <br>  Formation energy: -0.962 eV/atom <br>  Energy Above Hull: (+0.0 eV/atom)",
          "ZnS (mp-555628-r2SCAN) <br>  Formation energy: -0.962 eV/atom <br>  Energy Above Hull: (+0.001 eV/atom)",
          "ZnS (mp-555664-r2SCAN) <br>  Formation energy: -0.963 eV/atom <br>  Energy Above Hull: (+0.0 eV/atom)",
          "ZnS (mp-555666-r2SCAN) <br>  Formation energy: -0.962 eV/atom <br>  Energy Above Hull: (+0.0 eV/atom)",
          "ZnS (mp-555763-r2SCAN) <br>  Formation energy: -0.961 eV/atom <br>  Energy Above Hull: (+0.002 eV/atom)",
          "ZnS (mp-555773-r2SCAN) <br>  Formation energy: -0.962 eV/atom <br>  Energy Above Hull: (+0.0 eV/atom)",
          "ZnS (mp-555779-r2SCAN) <br>  Formation energy: -0.963 eV/atom <br>  Energy Above Hull: (+0.0 eV/atom)",
          "ZnS (mp-555782-r2SCAN) <br>  Formation energy: -0.962 eV/atom <br>  Energy Above Hull: (+0.0 eV/atom)",
          "ZnS (mp-555858-GGA) <br>  Formation energy: -0.911 eV/atom <br>  Energy Above Hull: (+0.051 eV/atom)",
          "ZnS (mp-556000-r2SCAN) <br>  Formation energy: -0.962 eV/atom <br>  Energy Above Hull: (+0.001 eV/atom)",
          "ZnS (mp-556005-r2SCAN) <br>  Formation energy: -0.962 eV/atom <br>  Energy Above Hull: (+0.001 eV/atom)",
          "ZnS (mp-556105-GGA) <br>  Formation energy: -0.911 eV/atom <br>  Energy Above Hull: (+0.051 eV/atom)",
          "ZnS (mp-556152-r2SCAN) <br>  Formation energy: -0.962 eV/atom <br>  Energy Above Hull: (+0.001 eV/atom)",
          "ZnS (mp-556155-r2SCAN) <br>  Formation energy: -0.962 eV/atom <br>  Energy Above Hull: (+0.0 eV/atom)",
          "ZnS (mp-556161-r2SCAN) <br>  Formation energy: -0.962 eV/atom <br>  Energy Above Hull: (+0.001 eV/atom)",
          "ZnS (mp-556207-r2SCAN) <br>  Formation energy: -0.962 eV/atom <br>  Energy Above Hull: (+0.001 eV/atom)",
          "ZnS (mp-556280-r2SCAN) <br>  Formation energy: -0.962 eV/atom <br>  Energy Above Hull: (+0.0 eV/atom)",
          "ZnS (mp-556363-r2SCAN) <br>  Formation energy: -0.962 eV/atom <br>  Energy Above Hull: (+0.0 eV/atom)",
          "ZnS (mp-556392-r2SCAN) <br>  Formation energy: -0.962 eV/atom <br>  Energy Above Hull: (+0.001 eV/atom)",
          "ZnS (mp-556395-r2SCAN) <br>  Formation energy: -0.962 eV/atom <br>  Energy Above Hull: (+0.001 eV/atom)",
          "ZnS (mp-556448-r2SCAN) <br>  Formation energy: -0.963 eV/atom <br>  Energy Above Hull: (+0.0 eV/atom)",
          "ZnS (mp-556468-GGA) <br>  Formation energy: -0.951 eV/atom <br>  Energy Above Hull: (+0.012 eV/atom)",
          "ZnS (mp-556543-r2SCAN) <br>  Formation energy: -0.963 eV/atom <br>  Energy Above Hull: (+0.0 eV/atom)",
          "ZnS (mp-556576-GGA) <br>  Formation energy: -0.95 eV/atom <br>  Energy Above Hull: (+0.013 eV/atom)",
          "ZnS (mp-556716-r2SCAN) <br>  Formation energy: -0.962 eV/atom <br>  Energy Above Hull: (+0.001 eV/atom)",
          "ZnS (mp-556732-r2SCAN) <br>  Formation energy: -0.962 eV/atom <br>  Energy Above Hull: (+0.0 eV/atom)",
          "ZnS (mp-556775-r2SCAN) <br>  Formation energy: -0.962 eV/atom <br>  Energy Above Hull: (+0.001 eV/atom)",
          "ZnS (mp-556784-r2SCAN) <br>  Formation energy: -0.963 eV/atom <br>  Energy Above Hull: (+0.0 eV/atom)",
          "ZnS (mp-556815-r2SCAN) <br>  Formation energy: -0.962 eV/atom <br>  Energy Above Hull: (+0.001 eV/atom)",
          "ZnS (mp-556950-r2SCAN) <br>  Formation energy: -0.962 eV/atom <br>  Energy Above Hull: (+0.0 eV/atom)",
          "ZnS (mp-556989-r2SCAN) <br>  Formation energy: -0.962 eV/atom <br>  Energy Above Hull: (+0.001 eV/atom)",
          "ZnS (mp-557009-r2SCAN) <br>  Formation energy: -0.962 eV/atom <br>  Energy Above Hull: (+0.001 eV/atom)",
          "ZnS (mp-557026-r2SCAN) <br>  Formation energy: -0.962 eV/atom <br>  Energy Above Hull: (+0.0 eV/atom)",
          "ZnS (mp-557054-r2SCAN) <br>  Formation energy: -0.961 eV/atom <br>  Energy Above Hull: (+0.001 eV/atom)",
          "ZnS (mp-557062-r2SCAN) <br>  Formation energy: -0.962 eV/atom <br>  Energy Above Hull: (+0.001 eV/atom)",
          "ZnS (mp-557151-GGA) <br>  Formation energy: -0.951 eV/atom <br>  Energy Above Hull: (+0.012 eV/atom)",
          "ZnS (mp-557175-r2SCAN) <br>  Formation energy: -0.962 eV/atom <br>  Energy Above Hull: (+0.0 eV/atom)",
          "ZnS (mp-557308-r2SCAN) <br>  Formation energy: -0.962 eV/atom <br>  Energy Above Hull: (+0.0 eV/atom)",
          "ZnS (mp-557346-r2SCAN) <br>  Formation energy: -0.962 eV/atom <br>  Energy Above Hull: (+0.0 eV/atom)",
          "ZnS (mp-557418-r2SCAN) <br>  Formation energy: -0.962 eV/atom <br>  Energy Above Hull: (+0.001 eV/atom)",
          "ZnS (mp-560588-r2SCAN) <br>  Formation energy: -0.96 eV/atom <br>  Energy Above Hull: (+0.003 eV/atom)",
          "ZnS (mp-560725-r2SCAN) <br>  Formation energy: -0.963 eV/atom <br>  Energy Above Hull: (+0.0 eV/atom)",
          "ZnS (mp-561118-r2SCAN) <br>  Formation energy: -0.962 eV/atom <br>  Energy Above Hull: (+0.001 eV/atom)",
          "ZnS (mp-561196-r2SCAN) <br>  Formation energy: -0.962 eV/atom <br>  Energy Above Hull: (+0.0 eV/atom)",
          "ZnS (mp-10281-r2SCAN) <br>  Formation energy: -0.962 eV/atom <br>  Energy Above Hull: (+0.001 eV/atom)",
          "ZnS (mp-10695-r2SCAN) <br>  Formation energy: -0.963 eV/atom <br>  Energy Above Hull: (+0.0 eV/atom)",
          "ZnS (mp-1196782-GGA) <br>  Formation energy: -0.951 eV/atom <br>  Energy Above Hull: (+0.012 eV/atom)",
          "ZnS (mp-1198139-GGA) <br>  Formation energy: -0.95 eV/atom <br>  Energy Above Hull: (+0.012 eV/atom)",
          "ZnS (mp-1199343-GGA) <br>  Formation energy: -0.95 eV/atom <br>  Energy Above Hull: (+0.012 eV/atom)",
          "ZnS (mp-1200568-GGA) <br>  Formation energy: -0.95 eV/atom <br>  Energy Above Hull: (+0.013 eV/atom)",
          "ZnS (mp-1200836-GGA) <br>  Formation energy: -0.95 eV/atom <br>  Energy Above Hull: (+0.012 eV/atom)",
          "ZnS (mp-1201158-GGA) <br>  Formation energy: -0.95 eV/atom <br>  Energy Above Hull: (+0.013 eV/atom)",
          "ZnS (mp-1201781-GGA) <br>  Formation energy: -0.951 eV/atom <br>  Energy Above Hull: (+0.012 eV/atom)",
          "ZnS (mp-1202023-GGA) <br>  Formation energy: -0.95 eV/atom <br>  Energy Above Hull: (+0.012 eV/atom)",
          "ZnS (mp-1202182-GGA) <br>  Formation energy: -0.95 eV/atom <br>  Energy Above Hull: (+0.012 eV/atom)",
          "ZnS (mp-1202959-GGA) <br>  Formation energy: -0.95 eV/atom <br>  Energy Above Hull: (+0.012 eV/atom)",
          "ZnS (mp-554115-r2SCAN) <br>  Formation energy: -0.962 eV/atom <br>  Energy Above Hull: (+0.0 eV/atom)",
          "ZnS (mp-554253-r2SCAN) <br>  Formation energy: -0.962 eV/atom <br>  Energy Above Hull: (+0.001 eV/atom)",
          "ZnS (mp-554405-r2SCAN) <br>  Formation energy: -0.961 eV/atom <br>  Energy Above Hull: (+0.002 eV/atom)",
          "ZnS (mp-554503-r2SCAN) <br>  Formation energy: -0.962 eV/atom <br>  Energy Above Hull: (+0.001 eV/atom)",
          "ZnS (mp-554608-r2SCAN) <br>  Formation energy: -0.962 eV/atom <br>  Energy Above Hull: (+0.0 eV/atom)",
          "ZnS (mp-554630-r2SCAN) <br>  Formation energy: -0.962 eV/atom <br>  Energy Above Hull: (+0.001 eV/atom)",
          "ZnS (mp-554681-r2SCAN) <br>  Formation energy: -0.962 eV/atom <br>  Energy Above Hull: (+0.0 eV/atom)",
          "ZnS (mp-554713-r2SCAN) <br>  Formation energy: -0.962 eV/atom <br>  Energy Above Hull: (+0.001 eV/atom)",
          "ZnS (mp-554829-r2SCAN) <br>  Formation energy: -0.962 eV/atom <br>  Energy Above Hull: (+0.0 eV/atom)",
          "ZnS (mp-554889-r2SCAN) <br>  Formation energy: -0.962 eV/atom <br>  Energy Above Hull: (+0.001 eV/atom)",
          "ZnS (mp-554961-r2SCAN) <br>  Formation energy: -0.962 eV/atom <br>  Energy Above Hull: (+0.001 eV/atom)",
          "ZnS (mp-554986-GGA) <br>  Formation energy: -0.962 eV/atom <br>  Energy Above Hull: (+0.001 eV/atom)",
          "ZnS (mp-554999-r2SCAN) <br>  Formation energy: -0.962 eV/atom <br>  Energy Above Hull: (+0.0 eV/atom)",
          "ZnS (mp-555079-r2SCAN) <br>  Formation energy: -0.963 eV/atom <br>  Energy Above Hull: (+0.0 eV/atom)",
          "ZnS (mp-555151-r2SCAN) <br>  Formation energy: -0.962 eV/atom <br>  Energy Above Hull: (+0.001 eV/atom)",
          "ZnS (mp-555214-r2SCAN) <br>  Formation energy: -0.949 eV/atom <br>  Energy Above Hull: (+0.014 eV/atom)",
          "ZnS (mp-555280-r2SCAN) <br>  Formation energy: -0.962 eV/atom <br>  Energy Above Hull: (+0.001 eV/atom)",
          "ZnS (mp-555311-r2SCAN) <br>  Formation energy: -0.962 eV/atom <br>  Energy Above Hull: (+0.001 eV/atom)",
          "ZnS (mp-555381-r2SCAN) <br>  Formation energy: -0.962 eV/atom <br>  Energy Above Hull: (+0.0 eV/atom)",
          "ZnS (mp-555410-r2SCAN) <br>  Formation energy: -0.962 eV/atom <br>  Energy Above Hull: (+0.001 eV/atom)",
          "ZnS (mp-555543-r2SCAN) <br>  Formation energy: -0.962 eV/atom <br>  Energy Above Hull: (+0.001 eV/atom)",
          "ZnS (mp-555583-r2SCAN) <br>  Formation energy: -0.962 eV/atom <br>  Energy Above Hull: (+0.0 eV/atom)",
          "ZnS (mp-13456-r2SCAN) <br>  Formation energy: -0.962 eV/atom <br>  Energy Above Hull: (+0.001 eV/atom)",
          "ZnS (mp-18377-GGA) <br>  Formation energy: -0.91 eV/atom <br>  Energy Above Hull: (+0.052 eV/atom)",
          "ZnS (mp-543011-GGA) <br>  Formation energy: -0.95 eV/atom <br>  Energy Above Hull: (+0.013 eV/atom)",
          "ZnS (mp-553880-r2SCAN) <br>  Formation energy: -0.962 eV/atom <br>  Energy Above Hull: (+0.0 eV/atom)",
          "ZnS (mp-553916-r2SCAN) <br>  Formation energy: -0.962 eV/atom <br>  Energy Above Hull: (+0.0 eV/atom)",
          "ZnS (mp-554004-r2SCAN) <br>  Formation energy: -0.962 eV/atom <br>  Energy Above Hull: (+0.001 eV/atom)",
          "ZnS<sub>2</sub> (mp-1102743-r2SCAN) <br>  Formation energy: -0.496 eV/atom <br>  Energy Above Hull: (+0.145 eV/atom)"
         ],
         "marker": {
          "color": [
           0.001,
           0.042,
           0.011,
           0.006,
           0.029,
           0.014,
           0.031,
           0.034,
           0.027,
           0.012,
           0.03,
           0,
           0.01,
           0.014,
           0.028,
           0.019,
           0.026,
           0.021,
           0.051,
           0.029,
           0.007,
           0.058,
           0.055,
           0.049,
           0.052,
           0.005,
           0.072,
           0,
           0,
           0.012,
           0.001,
           0.011,
           0.001,
           0.011,
           0.011,
           0.012,
           0.001,
           0.052,
           0.001,
           0,
           0.001,
           0.001,
           0,
           0.001,
           0,
           0,
           0.002,
           0,
           0,
           0,
           0.051,
           0.001,
           0.001,
           0.051,
           0.001,
           0,
           0.001,
           0.001,
           0,
           0,
           0.001,
           0.001,
           0,
           0.012,
           0,
           0.013,
           0.001,
           0,
           0.001,
           0,
           0.001,
           0,
           0.001,
           0.001,
           0,
           0.001,
           0.001,
           0.012,
           0,
           0,
           0,
           0.001,
           0.003,
           0,
           0.001,
           0,
           0.001,
           0,
           0.012,
           0.012,
           0.012,
           0.013,
           0.012,
           0.013,
           0.012,
           0.012,
           0.012,
           0.012,
           0,
           0.001,
           0.002,
           0.001,
           0,
           0.001,
           0,
           0.001,
           0,
           0.001,
           0.001,
           0.001,
           0,
           0,
           0.001,
           0.014,
           0.001,
           0.001,
           0,
           0.001,
           0.001,
           0,
           0.001,
           0.052,
           0.013,
           0,
           0,
           0.001,
           0.145
          ],
          "colorscale": [
           [
            0,
            "#fff5e3"
           ],
           [
            0.5,
            "#f24324"
           ],
           [
            1,
            "#c40000"
           ]
          ],
          "line": {
           "color": "black",
           "width": 1
          },
          "opacity": 0.8,
          "size": 7,
          "symbol": "diamond"
         },
         "mode": "markers",
         "name": "Above Hull",
         "showlegend": true,
         "type": "scatter",
         "x": [
          1,
          1,
          1,
          1,
          1,
          1,
          1,
          1,
          1,
          1,
          1,
          1,
          1,
          1,
          1,
          1,
          1,
          1,
          1,
          1,
          0,
          0,
          0,
          0,
          0,
          0,
          0,
          0.5,
          0.5,
          0.5,
          0.5,
          0.5,
          0.5,
          0.5,
          0.5,
          0.5,
          0.5,
          0.5,
          0.5,
          0.5,
          0.5,
          0.5,
          0.5,
          0.5,
          0.5,
          0.5,
          0.5,
          0.5,
          0.5,
          0.5,
          0.5,
          0.5,
          0.5,
          0.5,
          0.5,
          0.5,
          0.5,
          0.5,
          0.5,
          0.5,
          0.5,
          0.5,
          0.5,
          0.5,
          0.5,
          0.5,
          0.5,
          0.5,
          0.5,
          0.5,
          0.5,
          0.5,
          0.5,
          0.5,
          0.5,
          0.5,
          0.5,
          0.5,
          0.5,
          0.5,
          0.5,
          0.5,
          0.5,
          0.5,
          0.5,
          0.5,
          0.5,
          0.5,
          0.5,
          0.5,
          0.5,
          0.5,
          0.5,
          0.5,
          0.5,
          0.5,
          0.5,
          0.5,
          0.5,
          0.5,
          0.5,
          0.5,
          0.5,
          0.5,
          0.5,
          0.5,
          0.5,
          0.5,
          0.5,
          0.5,
          0.5,
          0.5,
          0.5,
          0.5,
          0.5,
          0.5,
          0.5,
          0.5,
          0.5,
          0.5,
          0.5,
          0.5,
          0.5,
          0.5,
          0.5,
          0.5,
          0.6666666666666666
         ],
         "y": [
          0.0009478456250011646,
          0.04219668718750036,
          0.010508631999999806,
          0.006323890562499912,
          0.029379828298611226,
          0.01362501260416751,
          0.03133983871527827,
          0.033698483437500926,
          0.026719425187499722,
          0.01228568496527771,
          0.030134763973215684,
          0.0003716303125003151,
          0.010299026770834274,
          0.01394601906250017,
          0.027740434687500357,
          0.018545667901786293,
          0.026070752379807844,
          0.020726370312500464,
          0.05123619218750027,
          0.02892966468750099,
          0.007402094999998591,
          0.058374756800000115,
          0.05506891520000067,
          0.04885189270000069,
          0.05231597480000005,
          0.005205379999999593,
          0.07166242999999994,
          -0.9623525084062508,
          -0.9625883041562503,
          -0.9508194417633931,
          -0.9619335808883932,
          -0.9513546975967261,
          -0.9620291524578385,
          -0.95136465093006,
          -0.95136552718006,
          -0.9508279367633937,
          -0.9618588020411699,
          -0.9109926692633934,
          -0.9618388259040191,
          -0.9622368147179375,
          -0.9621155848315742,
          -0.9620232339062499,
          -0.9624551997395834,
          -0.9620438711979169,
          -0.9626682182812493,
          -0.9624169718750011,
          -0.9611227455729162,
          -0.9623161397395832,
          -0.9625231364062508,
          -0.9623346909062505,
          -0.9114680992633936,
          -0.9620877757244325,
          -0.9615223076562511,
          -0.911230661763392,
          -0.9619858852951401,
          -0.9623498061562501,
          -0.9621339131919646,
          -0.9621075434062505,
          -0.962339642906251,
          -0.9622874519618058,
          -0.9617981774776772,
          -0.9621301714062511,
          -0.9625760230729176,
          -0.9511081386383928,
          -0.962581502769887,
          -0.9495130923883934,
          -0.9617246374776788,
          -0.9623442166562498,
          -0.9619322998437507,
          -0.9626265420880677,
          -0.9617357624776771,
          -0.9622242404687515,
          -0.9617217564062501,
          -0.9621058091562503,
          -0.9622953394618068,
          -0.9614396303348209,
          -0.9621078659062505,
          -0.9511080561383931,
          -0.9623006405729169,
          -0.9623428774062504,
          -0.9622990758506944,
          -0.9621156881562498,
          -0.9596539814062517,
          -0.962524704218751,
          -0.9621595995312511,
          -0.9624634303348216,
          -0.9615670726562513,
          -0.9625521039062512,
          -0.9507823234300601,
          -0.9504715678745046,
          -0.950462961207838,
          -0.9500641820411713,
          -0.9504693148189491,
          -0.9501534175967268,
          -0.9507828350967268,
          -0.9504548223189491,
          -0.9504746987078379,
          -0.950471343985615,
          -0.9623385472395837,
          -0.9619794758293272,
          -0.960797718906251,
          -0.9621856408705359,
          -0.9624897537139433,
          -0.9619329605729163,
          -0.9624981687276772,
          -0.9620120034895834,
          -0.9624573849479164,
          -0.9620553897395835,
          -0.9621898253348219,
          -0.9617009913222168,
          -0.9622275199479162,
          -0.9626829801562492,
          -0.9621921344419633,
          -0.9489801546754819,
          -0.962023470572916,
          -0.9619723139062509,
          -0.9624543522395838,
          -0.9615712414062507,
          -0.962111316614583,
          -0.9622509980729165,
          -0.9618938379062498,
          -0.9104130257633927,
          -0.9500676567633926,
          -0.9622840304447121,
          -0.9624453570312497,
          -0.9616857181919646,
          -0.4963771335416662
         ]
        }
       ],
       "layout": {
        "annotations": [
         {
          "align": "center",
          "font": {
           "color": "#000000",
           "size": 24
          },
          "opacity": 1,
          "showarrow": false,
          "text": "S",
          "x": 1.03,
          "xref": "x",
          "y": -0.03,
          "yref": "y"
         },
         {
          "align": "center",
          "font": {
           "color": "#000000",
           "size": 24
          },
          "opacity": 1,
          "showarrow": false,
          "text": "Zn",
          "x": -0.03,
          "xref": "x",
          "y": -0.03,
          "yref": "y"
         }
        ],
        "autosize": true,
        "coloraxis": {
         "colorbar": {
          "x": 1,
          "y": 0.05,
          "yanchor": "top"
         }
        },
        "hovermode": "closest",
        "legend": {
         "orientation": "h",
         "tracegroupgap": 7,
         "traceorder": "reversed",
         "x": 0,
         "xanchor": "left",
         "y": 1.05
        },
        "margin": {
         "b": 10,
         "l": 10,
         "pad": 0,
         "r": 10,
         "t": 0
        },
        "paper_bgcolor": "rgba(0,0,0,0)",
        "plot_bgcolor": "rgba(0,0,0,0)",
        "showlegend": true,
        "template": {
         "data": {
          "bar": [
           {
            "error_x": {
             "color": "#2a3f5f"
            },
            "error_y": {
             "color": "#2a3f5f"
            },
            "marker": {
             "line": {
              "color": "#E5ECF6",
              "width": 0.5
             },
             "pattern": {
              "fillmode": "overlay",
              "size": 10,
              "solidity": 0.2
             }
            },
            "type": "bar"
           }
          ],
          "barpolar": [
           {
            "marker": {
             "line": {
              "color": "#E5ECF6",
              "width": 0.5
             },
             "pattern": {
              "fillmode": "overlay",
              "size": 10,
              "solidity": 0.2
             }
            },
            "type": "barpolar"
           }
          ],
          "carpet": [
           {
            "aaxis": {
             "endlinecolor": "#2a3f5f",
             "gridcolor": "white",
             "linecolor": "white",
             "minorgridcolor": "white",
             "startlinecolor": "#2a3f5f"
            },
            "baxis": {
             "endlinecolor": "#2a3f5f",
             "gridcolor": "white",
             "linecolor": "white",
             "minorgridcolor": "white",
             "startlinecolor": "#2a3f5f"
            },
            "type": "carpet"
           }
          ],
          "choropleth": [
           {
            "colorbar": {
             "outlinewidth": 0,
             "ticks": ""
            },
            "type": "choropleth"
           }
          ],
          "contour": [
           {
            "colorbar": {
             "outlinewidth": 0,
             "ticks": ""
            },
            "colorscale": [
             [
              0,
              "#0d0887"
             ],
             [
              0.1111111111111111,
              "#46039f"
             ],
             [
              0.2222222222222222,
              "#7201a8"
             ],
             [
              0.3333333333333333,
              "#9c179e"
             ],
             [
              0.4444444444444444,
              "#bd3786"
             ],
             [
              0.5555555555555556,
              "#d8576b"
             ],
             [
              0.6666666666666666,
              "#ed7953"
             ],
             [
              0.7777777777777778,
              "#fb9f3a"
             ],
             [
              0.8888888888888888,
              "#fdca26"
             ],
             [
              1,
              "#f0f921"
             ]
            ],
            "type": "contour"
           }
          ],
          "contourcarpet": [
           {
            "colorbar": {
             "outlinewidth": 0,
             "ticks": ""
            },
            "type": "contourcarpet"
           }
          ],
          "heatmap": [
           {
            "colorbar": {
             "outlinewidth": 0,
             "ticks": ""
            },
            "colorscale": [
             [
              0,
              "#0d0887"
             ],
             [
              0.1111111111111111,
              "#46039f"
             ],
             [
              0.2222222222222222,
              "#7201a8"
             ],
             [
              0.3333333333333333,
              "#9c179e"
             ],
             [
              0.4444444444444444,
              "#bd3786"
             ],
             [
              0.5555555555555556,
              "#d8576b"
             ],
             [
              0.6666666666666666,
              "#ed7953"
             ],
             [
              0.7777777777777778,
              "#fb9f3a"
             ],
             [
              0.8888888888888888,
              "#fdca26"
             ],
             [
              1,
              "#f0f921"
             ]
            ],
            "type": "heatmap"
           }
          ],
          "heatmapgl": [
           {
            "colorbar": {
             "outlinewidth": 0,
             "ticks": ""
            },
            "colorscale": [
             [
              0,
              "#0d0887"
             ],
             [
              0.1111111111111111,
              "#46039f"
             ],
             [
              0.2222222222222222,
              "#7201a8"
             ],
             [
              0.3333333333333333,
              "#9c179e"
             ],
             [
              0.4444444444444444,
              "#bd3786"
             ],
             [
              0.5555555555555556,
              "#d8576b"
             ],
             [
              0.6666666666666666,
              "#ed7953"
             ],
             [
              0.7777777777777778,
              "#fb9f3a"
             ],
             [
              0.8888888888888888,
              "#fdca26"
             ],
             [
              1,
              "#f0f921"
             ]
            ],
            "type": "heatmapgl"
           }
          ],
          "histogram": [
           {
            "marker": {
             "pattern": {
              "fillmode": "overlay",
              "size": 10,
              "solidity": 0.2
             }
            },
            "type": "histogram"
           }
          ],
          "histogram2d": [
           {
            "colorbar": {
             "outlinewidth": 0,
             "ticks": ""
            },
            "colorscale": [
             [
              0,
              "#0d0887"
             ],
             [
              0.1111111111111111,
              "#46039f"
             ],
             [
              0.2222222222222222,
              "#7201a8"
             ],
             [
              0.3333333333333333,
              "#9c179e"
             ],
             [
              0.4444444444444444,
              "#bd3786"
             ],
             [
              0.5555555555555556,
              "#d8576b"
             ],
             [
              0.6666666666666666,
              "#ed7953"
             ],
             [
              0.7777777777777778,
              "#fb9f3a"
             ],
             [
              0.8888888888888888,
              "#fdca26"
             ],
             [
              1,
              "#f0f921"
             ]
            ],
            "type": "histogram2d"
           }
          ],
          "histogram2dcontour": [
           {
            "colorbar": {
             "outlinewidth": 0,
             "ticks": ""
            },
            "colorscale": [
             [
              0,
              "#0d0887"
             ],
             [
              0.1111111111111111,
              "#46039f"
             ],
             [
              0.2222222222222222,
              "#7201a8"
             ],
             [
              0.3333333333333333,
              "#9c179e"
             ],
             [
              0.4444444444444444,
              "#bd3786"
             ],
             [
              0.5555555555555556,
              "#d8576b"
             ],
             [
              0.6666666666666666,
              "#ed7953"
             ],
             [
              0.7777777777777778,
              "#fb9f3a"
             ],
             [
              0.8888888888888888,
              "#fdca26"
             ],
             [
              1,
              "#f0f921"
             ]
            ],
            "type": "histogram2dcontour"
           }
          ],
          "mesh3d": [
           {
            "colorbar": {
             "outlinewidth": 0,
             "ticks": ""
            },
            "type": "mesh3d"
           }
          ],
          "parcoords": [
           {
            "line": {
             "colorbar": {
              "outlinewidth": 0,
              "ticks": ""
             }
            },
            "type": "parcoords"
           }
          ],
          "pie": [
           {
            "automargin": true,
            "type": "pie"
           }
          ],
          "scatter": [
           {
            "fillpattern": {
             "fillmode": "overlay",
             "size": 10,
             "solidity": 0.2
            },
            "type": "scatter"
           }
          ],
          "scatter3d": [
           {
            "line": {
             "colorbar": {
              "outlinewidth": 0,
              "ticks": ""
             }
            },
            "marker": {
             "colorbar": {
              "outlinewidth": 0,
              "ticks": ""
             }
            },
            "type": "scatter3d"
           }
          ],
          "scattercarpet": [
           {
            "marker": {
             "colorbar": {
              "outlinewidth": 0,
              "ticks": ""
             }
            },
            "type": "scattercarpet"
           }
          ],
          "scattergeo": [
           {
            "marker": {
             "colorbar": {
              "outlinewidth": 0,
              "ticks": ""
             }
            },
            "type": "scattergeo"
           }
          ],
          "scattergl": [
           {
            "marker": {
             "colorbar": {
              "outlinewidth": 0,
              "ticks": ""
             }
            },
            "type": "scattergl"
           }
          ],
          "scattermapbox": [
           {
            "marker": {
             "colorbar": {
              "outlinewidth": 0,
              "ticks": ""
             }
            },
            "type": "scattermapbox"
           }
          ],
          "scatterpolar": [
           {
            "marker": {
             "colorbar": {
              "outlinewidth": 0,
              "ticks": ""
             }
            },
            "type": "scatterpolar"
           }
          ],
          "scatterpolargl": [
           {
            "marker": {
             "colorbar": {
              "outlinewidth": 0,
              "ticks": ""
             }
            },
            "type": "scatterpolargl"
           }
          ],
          "scatterternary": [
           {
            "marker": {
             "colorbar": {
              "outlinewidth": 0,
              "ticks": ""
             }
            },
            "type": "scatterternary"
           }
          ],
          "surface": [
           {
            "colorbar": {
             "outlinewidth": 0,
             "ticks": ""
            },
            "colorscale": [
             [
              0,
              "#0d0887"
             ],
             [
              0.1111111111111111,
              "#46039f"
             ],
             [
              0.2222222222222222,
              "#7201a8"
             ],
             [
              0.3333333333333333,
              "#9c179e"
             ],
             [
              0.4444444444444444,
              "#bd3786"
             ],
             [
              0.5555555555555556,
              "#d8576b"
             ],
             [
              0.6666666666666666,
              "#ed7953"
             ],
             [
              0.7777777777777778,
              "#fb9f3a"
             ],
             [
              0.8888888888888888,
              "#fdca26"
             ],
             [
              1,
              "#f0f921"
             ]
            ],
            "type": "surface"
           }
          ],
          "table": [
           {
            "cells": {
             "fill": {
              "color": "#EBF0F8"
             },
             "line": {
              "color": "white"
             }
            },
            "header": {
             "fill": {
              "color": "#C8D4E3"
             },
             "line": {
              "color": "white"
             }
            },
            "type": "table"
           }
          ]
         },
         "layout": {
          "annotationdefaults": {
           "arrowcolor": "#2a3f5f",
           "arrowhead": 0,
           "arrowwidth": 1
          },
          "autotypenumbers": "strict",
          "coloraxis": {
           "colorbar": {
            "outlinewidth": 0,
            "ticks": ""
           }
          },
          "colorscale": {
           "diverging": [
            [
             0,
             "#8e0152"
            ],
            [
             0.1,
             "#c51b7d"
            ],
            [
             0.2,
             "#de77ae"
            ],
            [
             0.3,
             "#f1b6da"
            ],
            [
             0.4,
             "#fde0ef"
            ],
            [
             0.5,
             "#f7f7f7"
            ],
            [
             0.6,
             "#e6f5d0"
            ],
            [
             0.7,
             "#b8e186"
            ],
            [
             0.8,
             "#7fbc41"
            ],
            [
             0.9,
             "#4d9221"
            ],
            [
             1,
             "#276419"
            ]
           ],
           "sequential": [
            [
             0,
             "#0d0887"
            ],
            [
             0.1111111111111111,
             "#46039f"
            ],
            [
             0.2222222222222222,
             "#7201a8"
            ],
            [
             0.3333333333333333,
             "#9c179e"
            ],
            [
             0.4444444444444444,
             "#bd3786"
            ],
            [
             0.5555555555555556,
             "#d8576b"
            ],
            [
             0.6666666666666666,
             "#ed7953"
            ],
            [
             0.7777777777777778,
             "#fb9f3a"
            ],
            [
             0.8888888888888888,
             "#fdca26"
            ],
            [
             1,
             "#f0f921"
            ]
           ],
           "sequentialminus": [
            [
             0,
             "#0d0887"
            ],
            [
             0.1111111111111111,
             "#46039f"
            ],
            [
             0.2222222222222222,
             "#7201a8"
            ],
            [
             0.3333333333333333,
             "#9c179e"
            ],
            [
             0.4444444444444444,
             "#bd3786"
            ],
            [
             0.5555555555555556,
             "#d8576b"
            ],
            [
             0.6666666666666666,
             "#ed7953"
            ],
            [
             0.7777777777777778,
             "#fb9f3a"
            ],
            [
             0.8888888888888888,
             "#fdca26"
            ],
            [
             1,
             "#f0f921"
            ]
           ]
          },
          "colorway": [
           "#636efa",
           "#EF553B",
           "#00cc96",
           "#ab63fa",
           "#FFA15A",
           "#19d3f3",
           "#FF6692",
           "#B6E880",
           "#FF97FF",
           "#FECB52"
          ],
          "font": {
           "color": "#2a3f5f"
          },
          "geo": {
           "bgcolor": "white",
           "lakecolor": "white",
           "landcolor": "#E5ECF6",
           "showlakes": true,
           "showland": true,
           "subunitcolor": "white"
          },
          "hoverlabel": {
           "align": "left"
          },
          "hovermode": "closest",
          "mapbox": {
           "style": "light"
          },
          "paper_bgcolor": "white",
          "plot_bgcolor": "#E5ECF6",
          "polar": {
           "angularaxis": {
            "gridcolor": "white",
            "linecolor": "white",
            "ticks": ""
           },
           "bgcolor": "#E5ECF6",
           "radialaxis": {
            "gridcolor": "white",
            "linecolor": "white",
            "ticks": ""
           }
          },
          "scene": {
           "xaxis": {
            "backgroundcolor": "#E5ECF6",
            "gridcolor": "white",
            "gridwidth": 2,
            "linecolor": "white",
            "showbackground": true,
            "ticks": "",
            "zerolinecolor": "white"
           },
           "yaxis": {
            "backgroundcolor": "#E5ECF6",
            "gridcolor": "white",
            "gridwidth": 2,
            "linecolor": "white",
            "showbackground": true,
            "ticks": "",
            "zerolinecolor": "white"
           },
           "zaxis": {
            "backgroundcolor": "#E5ECF6",
            "gridcolor": "white",
            "gridwidth": 2,
            "linecolor": "white",
            "showbackground": true,
            "ticks": "",
            "zerolinecolor": "white"
           }
          },
          "shapedefaults": {
           "line": {
            "color": "#2a3f5f"
           }
          },
          "ternary": {
           "aaxis": {
            "gridcolor": "white",
            "linecolor": "white",
            "ticks": ""
           },
           "baxis": {
            "gridcolor": "white",
            "linecolor": "white",
            "ticks": ""
           },
           "bgcolor": "#E5ECF6",
           "caxis": {
            "gridcolor": "white",
            "linecolor": "white",
            "ticks": ""
           }
          },
          "title": {
           "x": 0.05
          },
          "xaxis": {
           "automargin": true,
           "gridcolor": "white",
           "linecolor": "white",
           "ticks": "",
           "title": {
            "standoff": 15
           },
           "zerolinecolor": "white",
           "zerolinewidth": 2
          },
          "yaxis": {
           "automargin": true,
           "gridcolor": "white",
           "linecolor": "white",
           "ticks": "",
           "title": {
            "standoff": 15
           },
           "zerolinecolor": "white",
           "zerolinewidth": 2
          }
         }
        },
        "xaxis": {
         "anchor": "y",
         "gridcolor": "rgba(0,0,0,0.1)",
         "mirror": "ticks",
         "nticks": 8,
         "showgrid": true,
         "showline": true,
         "side": "bottom",
         "tickfont": {
          "size": 16
         },
         "ticks": "inside",
         "title": {
          "font": {
           "color": "#000000",
           "size": 20
          },
          "text": "Composition (Fraction S)"
         },
         "type": "linear",
         "zeroline": false
        },
        "yaxis": {
         "anchor": "x",
         "gridcolor": "rgba(0,0,0,0.1)",
         "mirror": "ticks",
         "showgrid": true,
         "showline": true,
         "side": "left",
         "tickfont": {
          "size": 16
         },
         "ticks": "inside",
         "title": {
          "font": {
           "color": "#000000",
           "size": 20
          },
          "text": "Formation energy (eV/atom)"
         },
         "type": "linear"
        }
       }
      }
     },
     "metadata": {},
     "output_type": "display_data"
    }
   ],
   "source": [
    "from mp_api.client import MPRester\n",
    "from pymatgen.analysis.phase_diagram import PhaseDiagram, PDPlotter\n",
    "\n",
    "# 1. Query Zn–S chemical system entries from the Materials Project\n",
    "with MPRester(API_KEY) as mpr:\n",
    "    # Fetch material_id and whether each entry is theoretical (not observed experimentally)\n",
    "    docs = mpr.materials.summary.search(\n",
    "        chemsys=[\"Zn\", \"S\", \"Zn-S\"],        # Include both elemental and binary compositions\n",
    "        fields=[\"theoretical\", \"material_id\"]\n",
    "    )\n",
    "\n",
    "# 2. Split the results into:\n",
    "#    - docs_exp: entries that are NOT theoretical (i.e. have experimental support)\n",
    "#    - docs_all: all entries (experimental + theoretical)\n",
    "docs_all = [d.material_id for d in docs]\n",
    "\n",
    "\n",
    "all_entries = mpr.get_entries(docs_all)    # All available entries\n",
    "\n",
    "# 5. Build and show the phase diagram including theoretical (predicted) structures\n",
    "pd = PhaseDiagram(all_entries)\n",
    "plotter = PDPlotter(pd)\n",
    "plotter.show()\n"
   ]
  },
  {
   "cell_type": "markdown",
   "id": "28eca061",
   "metadata": {},
   "source": [
    "Looking at this phase diagram, we can see that there are actually many more structures that are on the materials project! Following the same procedure as we did for NaCl to predict the diffraction patterns, here we can see that there are many many predicted XRD patterns for ZnS, as it is much more prone to polymorphism that NaCl."
   ]
  },
  {
   "cell_type": "code",
   "execution_count": 6,
   "id": "e8c809e3",
   "metadata": {},
   "outputs": [
    {
     "data": {
      "image/png": "[encoded data removed]",
      "text/plain": [
       "<Figure size 800x500 with 1 Axes>"
      ]
     },
     "metadata": {},
     "output_type": "display_data"
    }
   ],
   "source": [
    "from pymatgen.analysis.diffraction.xrd import XRDCalculator\n",
    "import numpy as np\n",
    "import matplotlib.pyplot as plt\n",
    "\n",
    "# 1. Compute XRD patterns\n",
    "# Initialize the XRD calculator using Cu Kα radiation (λ ≈ 1.5406 Å)\n",
    "xrd_calc = XRDCalculator(wavelength=\"CuKa\")\n",
    "\n",
    "# Filter only the entries with reduced formula ZnS from a preloaded list `all_entries`\n",
    "entries = [e for e in all_entries if e.reduced_formula == \"ZnS\"]\n",
    "\n",
    "# Compute XRD patterns (2θ positions and intensities) for each ZnS structure\n",
    "patterns = [xrd_calc.get_pattern(e.structure) for e in entries]\n",
    "\n",
    "# 2. Plot the results using a stem plot for discrete peaks\n",
    "plt.figure(figsize=(8, 5))  # Set up plot dimensions\n",
    "\n",
    "# Loop through each pattern and draw stems at each 2θ peak with normalized intensity\n",
    "for pat in patterns:\n",
    "    markerline, stemlines, baseline = plt.stem(\n",
    "        pat.x,\n",
    "        pat.y / pat.y.max(),  # Normalize intensities to max = 1\n",
    "        basefmt=\" \",          # Remove baseline formatting\n",
    "        linefmt=\"-\",          # Line style for stems\n",
    "        markerfmt=\"o\",        # Marker style for peaks\n",
    "    )\n",
    "    # Optionally adjust styling here, e.g., markerline.set_alpha(0.8)\n",
    "\n",
    "# Add axis labels and figure title\n",
    "plt.xlabel(\"2θ (°)\")\n",
    "plt.ylabel(\"Normalized intensity\")\n",
    "plt.title(f\"ZnS XRD from the Materials Project\")\n",
    "plt.xlim(10, 80)  # Typical range for Cu Kα diffraction\n",
    "plt.tight_layout()\n",
    "plt.show()  # Render the figure\n"
   ]
  },
  {
   "cell_type": "markdown",
   "id": "886c91b0",
   "metadata": {},
   "source": [
    "A visulisation nightmare! We can try and clean this up to see what a \"realistic\" XRD pattern might look like for ZnS by utilizing the data available in the materials project: weighting the structures by their energies. The Boltzmann factor α = exp(−ΔE / kBT) gives the relative probability of each structure by boltzmann weighting the data \n",
    "\n",
    "### Boltzmann Weighting Explained\n",
    "\n",
    "The Boltzmann factor  \n",
    "\n",
    "$$\\alpha = \\exp\\left(-\\frac{\\Delta E}{k_B T}\\right)$$\n",
    "\n",
    "gives the relative probability of observing each structure at thermal equilibrium.\n",
    "\n",
    "- **Low-energy structures** (ΔE ≈ 0) have α ≈ 1 and contribute strongly.\n",
    "- **Higher-energy structures** are exponentially suppressed and contribute less.\n",
    "\n",
    "This is used to modulate the transparency (alpha) of each structure’s XRD peaks in the plot, effectively downweighting less stable configurations.\n",
    "\n",
    "The temperature `T` acts as a smoothing parameter:\n",
    "- At **T → 0 K**, only the ground state contributes (α → 0 for all others).\n",
    "- At **higher T**, metastable structures are included in proportion to their thermal likelihood.\n",
    "\n",
    "This approach visually communicates the thermodynamic relevance of each phase."
   ]
  },
  {
   "cell_type": "code",
   "execution_count": 20,
   "id": "36995ebf",
   "metadata": {},
   "outputs": [
    {
     "data": {
      "image/png": "[encoded data removed]",
      "text/plain": [
       "<Figure size 800x500 with 1 Axes>"
      ]
     },
     "metadata": {},
     "output_type": "display_data"
    },
    {
     "data": {
      "image/png": "[encoded data removed]",
      "text/plain": [
       "<Figure size 800x500 with 1 Axes>"
      ]
     },
     "metadata": {},
     "output_type": "display_data"
    }
   ],
   "source": [
    "import numpy as np\n",
    "import matplotlib.pyplot as plt\n",
    "\n",
    "# 1. Compute energy differences relative to ground state\n",
    "energies = np.array([e.energy_per_atom for e in entries])\n",
    "delta_e = energies - energies.min()\n",
    "\n",
    "# 2. Boltzmann weighting\n",
    "# -----------------------\n",
    "# The Boltzmann factor:\n",
    "#     α = exp(−ΔE / kBT)\n",
    "# represents the relative probability of each structure at temperature T.\n",
    "# Structures with lower ΔE are more likely to be observed.\n",
    "# We use α to modulate the transparency of each XRD pattern in the plot.\n",
    "#\n",
    "# T acts as a smoothing parameter:\n",
    "#   - T → 0 K: only the ground state matters (α → 0 for others)\n",
    "#   - Higher T: metastable phases contribute proportionally\n",
    "k_B = 8.617333262e-5  # Boltzmann constant in eV/K\n",
    "T = 4             # Temperature in K\n",
    "kBT = k_B * T\n",
    "alphas = np.exp(-delta_e / kBT)\n",
    "\n",
    "# Normalize Boltzmann weights to sum to 1 for averaging\n",
    "boltz_weights = alphas / alphas.sum()\n",
    "\n",
    "# 3. Plot all XRD patterns with transparency based on Boltzmann factor\n",
    "plt.figure(figsize=(8, 5))\n",
    "for pat, alpha in zip(patterns, alphas):\n",
    "    markerline, stemlines, baseline = plt.stem(\n",
    "        pat.x,\n",
    "        pat.y / pat.y.max(),  # normalize each pattern to max intensity 1\n",
    "        basefmt=\" \",\n",
    "        linefmt=\"-\",\n",
    "        markerfmt=\"o\",\n",
    "    )\n",
    "    plt.setp(markerline, alpha=alpha)\n",
    "    plt.setp(stemlines, alpha=alpha)\n",
    "\n",
    "plt.xlabel(\"2θ (°)\")\n",
    "plt.ylabel(\"Normalized intensity\")\n",
    "plt.title(f\"ZnS XRD Patterns at T = {T:.0f} K\")\n",
    "plt.xlim(10, 80)\n",
    "plt.tight_layout()\n",
    "plt.show()\n",
    "\n",
    "from scipy.ndimage import gaussian_filter1d\n",
    "\n",
    "# 4. Compute and plot Boltzmann-weighted average XRD with smearing\n",
    "# -----------------------------------------------------------------\n",
    "x_min, x_max = 10, 80\n",
    "x_grid = np.linspace(x_min, x_max, 3500)\n",
    "y_sum = np.zeros_like(x_grid)\n",
    "\n",
    "# Interpolate and weight each pattern\n",
    "for pat, weight in zip(patterns, boltz_weights):\n",
    "    interp = np.interp(x_grid, pat.x, pat.y / pat.y.max(), left=0, right=0)\n",
    "    y_sum += weight * interp\n",
    "\n",
    "# Apply Gaussian smearing to the total\n",
    "# sigma is in grid points, not degrees; increase for broader peaks\n",
    "smeared_y = gaussian_filter1d(y_sum, sigma=5)\n",
    "\n",
    "# Plot average XRD\n",
    "plt.figure(figsize=(8, 5))\n",
    "plt.plot(x_grid, smeared_y, lw=2)\n",
    "plt.xlabel(\"2θ (°)\")\n",
    "plt.ylabel(\"Average normalized intensity\")\n",
    "plt.title(f\"Boltzmann-Averaged XRD at T = {T:.0f} K (with Gaussian smearing)\")\n",
    "plt.xlim(10, 80)\n",
    "plt.tight_layout()\n",
    "plt.show()"
   ]
  },
  {
   "cell_type": "markdown",
   "id": "79909403",
   "metadata": {},
   "source": [
    "Look for some experimental XRD data for ZnS and see if we're picking up the same peaks!\n",
    "\n",
    "A final challenge: using the materials project API can you see how many allotropes of carbon you can identify? "
   ]
  },
  {
   "cell_type": "code",
   "execution_count": null,
   "id": "2fc72c9d",
   "metadata": {},
   "outputs": [],
   "source": [
    "# 2. Connect and fetch only experimentally observed Na–Cl entries\n",
    "with MPRester(API_KEY) as mpr:\n",
    "    # We ask for material_id and check for theoretical entries\n",
    "    # Theoretical entries are those that are not experimentally observed\n",
    "    # We filter out theoretical entries by checking the 'theoretical' field.\n",
    "    # Here we do this just for simplicities sake and to see how we can filter entries.\n",
    "    docs = mpr.materials.summary.search(\n",
    "        chemsys=[\"C\"],\n",
    "        fields=[\"material_id\", \"theoretical\"]\n",
    "    )\n",
    "    exp_ids = [d.material_id for d in docs if d.theoretical is False] # Filter out theoretical entries"
   ]
  },
  {
   "cell_type": "code",
   "execution_count": null,
   "id": "ccc1aeee",
   "metadata": {},
   "outputs": [],
   "source": []
  },
  {
   "cell_type": "code",
   "execution_count": null,
   "id": "0ea2b6cd",
   "metadata": {},
   "outputs": [],
   "source": []
  },
  {
   "cell_type": "code",
   "execution_count": null,
   "id": "7ed5be0e",
   "metadata": {},
   "outputs": [],
   "source": []
  }
 ],
 "metadata": {
  "kernelspec": {
   "display_name": "work",
   "language": "python",
   "name": "python3"
  },
  "language_info": {
   "codemirror_mode": {
    "name": "ipython",
    "version": 3
   },
   "file_extension": ".py",
   "mimetype": "text/x-python",
   "name": "python",
   "nbconvert_exporter": "python",
   "pygments_lexer": "ipython3",
   "version": "3.10.9"
  }
 },
 "nbformat": 4,
 "nbformat_minor": 5
}
