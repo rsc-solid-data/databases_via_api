{
 "cells": [
  {
   "cell_type": "markdown",
   "id": "ab0e3be2",
   "metadata": {},
   "source": [
    "## An introduction to the Materials Project API\n",
    "\n",
    "The Materials Project is an open database of computed and experimental materials information, maintained by the Lawrence Berkeley National Laboratory. It provides crystal structures, thermodynamic data, electronic properties, and more for over 200,000 inorganic compounds. By exposing this wealth of data through a programmable interface, the Materials Project API lets you:\n",
    "\n",
    "- Query compositions and properties (e.g. band gaps, formation energies, elastic tensors) directly from Python or any HTTP client.\n",
    "- Download crystal structures in formats like CIF or POSCAR for further analysis.\n",
    "- Build phase diagrams, compute Pourbaix diagrams, or fetch provenance metadata for data-quality tracking.\n",
    "\n",
    "Because most entries arise from density functional theory (DFT) calculations, it’s important to bear in mind the usual DFT caveats—absolute energies may shift by tenths of an eV, and band gaps are typically underestimated. However, for exploring trends across chemical families, screening candidate materials, or automating data-driven workflows, the API is an indispensable tool.\n",
    "\n",
    "### Getting started: your API key\n",
    "\n",
    "1. Create a free account at https://materialsproject.org.\n",
    "2. After logging in, navigate to My Dashboard → API Key to reveal your personal key.\n",
    "3. Enter it in the cell below"
   ]
  },
  {
   "cell_type": "markdown",
   "id": "5657b3a0",
   "metadata": {},
   "source": [
    "\n",
    "### Worked example: analysing Chalcogenide Band Gaps\n",
    "\n",
    "This script uses the Materials Project API to:\n",
    "1. Download materials containing S, Se, or Te\n",
    "2. Filter and classify them by band gap and stability\n",
    "3. Plot their band gap distributions (original and corrected)\n",
    "4. Randomly select one promising direct-gap candidate. \n",
    "\n",
    "First things first, we will need to put together the required imports"
   ]
  },
  {
   "cell_type": "code",
   "execution_count": 1,
   "id": "867dacd8",
   "metadata": {},
   "outputs": [],
   "source": [
    "from mp_api.client import MPRester                      # Access the Materials Project database\n",
    "from pymatgen.core import Element                       # Get properties like atomic mass and number\n",
    "from collections import defaultdict                     # Automatically create default values in dicts\n",
    "import pandas as pd                                     # Handle and analyze tabular data\n",
    "import matplotlib.pyplot as plt                         # Create plots and figures\n",
    "import seaborn as sns                                   # Make attractive statistical plots (e.g. violin plots)\n",
    "import random                                           # Random selection from lists or ranges\n",
    "from pymatgen.core.composition import Composition       # Parse and work with chemical formulas\n",
    "from pymatgen.analysis.phase_diagram import PhaseDiagram, PDPlotter  # Build and visualize phase diagrams\n"
   ]
  },
  {
   "cell_type": "markdown",
   "id": "981e7df0",
   "metadata": {},
   "source": [
    "Now we're going to set some varaibles that will apply through the notebook"
   ]
  },
  {
   "cell_type": "code",
   "execution_count": null,
   "id": "daa727e0",
   "metadata": {},
   "outputs": [],
   "source": [
    "API_KEY = \"YOUR_API_KEY\"                                 # <-- Replace with your Materials Project API key\n",
    "\n",
    "chalcogens = {\"S\", \"Se\", \"Te\"}                           # Elements of interest: chalcogens (excluding oxygen)\n",
    "\n",
    "gap_by_chalcogen = defaultdict(list)                     # Store band gaps grouped by chalcogen element\n",
    "candidates = []                                          # Store promising candidate materials\n"
   ]
  },
  {
   "cell_type": "markdown",
   "id": "15d89f1d",
   "metadata": {},
   "source": [
    "Then we peform a download from the materials project"
   ]
  },
  {
   "cell_type": "code",
   "execution_count": 3,
   "id": "e593d7fc",
   "metadata": {},
   "outputs": [
    {
     "name": "stderr",
     "output_type": "stream",
     "text": [
      "/Users/alex/anaconda3/envs/work/lib/python3.10/site-packages/mp_api/client/mprester.py:230: UserWarning: mpcontribs-client not installed. Install the package to query MPContribs data, or construct pourbaix diagrams: 'pip install mpcontribs-client'\n",
      "  warnings.warn(\n"
     ]
    },
    {
     "data": {
      "application/vnd.jupyter.widget-view+json": {
       "model_id": "8ad43010c6924d9e80eaaffd144b3eb3",
       "version_major": 2,
       "version_minor": 0
      },
      "text/plain": [
       "Retrieving SummaryDoc documents:   0%|          | 0/2820 [00:00<?, ?it/s]"
      ]
     },
     "metadata": {},
     "output_type": "display_data"
    },
    {
     "data": {
      "application/vnd.jupyter.widget-view+json": {
       "model_id": "77a210573947482d9e6ef6682c11b37a",
       "version_major": 2,
       "version_minor": 0
      },
      "text/plain": [
       "Retrieving SummaryDoc documents:   0%|          | 0/4095 [00:00<?, ?it/s]"
      ]
     },
     "metadata": {},
     "output_type": "display_data"
    },
    {
     "data": {
      "application/vnd.jupyter.widget-view+json": {
       "model_id": "e2af9a9bfaff4518a50fdead0f7dd902",
       "version_major": 2,
       "version_minor": 0
      },
      "text/plain": [
       "Retrieving SummaryDoc documents:   0%|          | 0/10690 [00:00<?, ?it/s]"
      ]
     },
     "metadata": {},
     "output_type": "display_data"
    }
   ],
   "source": [
    "with MPRester(API_KEY) as mpr:                              # Connect to Materials Project using your API key\n",
    "    all_entries = []                                        # Store all retrieved material entries\n",
    "\n",
    "    for chalcogen in chalcogens:                            # Loop over each chalcogen (S, Se, Te)\n",
    "        entries = mpr.materials.summary.search(\n",
    "            band_gap=(0.01, None),                          # Filter: must be insulating or semiconducting\n",
    "            elements=[chalcogen],                           # Filter: must contain the current chalcogen\n",
    "            fields=[                                        # Request only these properties from the database\n",
    "                \"material_id\",                              # Unique Materials Project ID\n",
    "                \"band_gap\",                                 # Band gap in eV\n",
    "                \"elements\",                                 # Elements in the compound\n",
    "                \"formula_pretty\",                           # Pretty-printed chemical formula\n",
    "                \"energy_above_hull\",                        # Stability (eV/atom above convex hull)\n",
    "                \"is_gap_direct\"                             # Whether the band gap is direct\n",
    "            ]\n",
    "        )\n",
    "        all_entries.extend(entries)                         # Add the new entries to the full results list\n"
   ]
  },
  {
   "cell_type": "markdown",
   "id": "b7154f55",
   "metadata": {},
   "source": [
    "Then we filter and organise the materials based on some conditions\n"
   ]
  },
  {
   "cell_type": "code",
   "execution_count": 4,
   "id": "d0e965a3",
   "metadata": {},
   "outputs": [],
   "source": [
    "records = []                                              # Store (chalcogen, raw gap, corrected gap) tuples\n",
    "\n",
    "for e in all_entries:\n",
    "    if e.band_gap is None:                                # Skip entries with missing band gap data\n",
    "        continue\n",
    "\n",
    "    syms = {el.symbol for el in e.elements}               # Get the set of element symbols in the compound\n",
    "\n",
    "    if not (2 <= len(syms) <= 3):                         # Only keep binaries or ternaries\n",
    "        continue\n",
    "\n",
    "    found = syms & chalcogens                             # Find which chalcogens are present\n",
    "    if len(found) != 1:                                   # Must contain exactly one chalcogen\n",
    "        continue\n",
    "\n",
    "    ch = found.pop()                                      # Get the chalcogen symbol\n",
    "    raw_gap = e.band_gap                                  # Raw (uncorrected) band gap\n",
    "\n",
    "    corr_gap = 1.34 * raw_gap + 0.913                     # Apply empirical correction to the band gap \n",
    "                                                          # [https://doi.org/10.1021/co200012w]\n",
    "\n",
    "    gap_by_chalcogen[ch].append(raw_gap)                 # Add to per-chalcogen band gap list\n",
    "    records.append((ch, raw_gap, corr_gap))              # Save for later plotting\n",
    "\n",
    "    stable = (e.energy_above_hull is not None and\n",
    "              e.energy_above_hull < 0.01)                # Check if material is stable (near hull)\n",
    "\n",
    "    direct = bool(e.is_gap_direct)                        # Check if band gap is direct\n",
    "\n",
    "    if stable and direct and 1.1 <= corr_gap <= 1.5:      # Filter for promising candidates\n",
    "        candidates.append((\n",
    "            e.material_id,                                # Materials Project ID\n",
    "            e.formula_pretty,                             # Pretty formula\n",
    "            corr_gap,                                     # Corrected band gap\n",
    "            e.energy_above_hull                           # Stability in eV/atom\n",
    "        ))"
   ]
  },
  {
   "cell_type": "code",
   "execution_count": 5,
   "id": "97ea6896",
   "metadata": {},
   "outputs": [],
   "source": [
    "df = pd.DataFrame(                                       # Create a DataFrame from the collected records\n",
    "    records,\n",
    "    columns=[\"Chalcogen\", \"Band Gap (eV)\", \"Corrected Gap (eV)\"]\n",
    ")\n",
    "\n",
    "order = sorted(                                          # Sort chalcogen labels by increasing atomic mass\n",
    "    chalcogens,\n",
    "    key=lambda x: Element(x).atomic_mass\n",
    ")\n",
    "\n",
    "df.to_csv(\"band_gaps.csv\", index=False)                  # Save the DataFrame as a CSV file (no row index)"
   ]
  },
  {
   "cell_type": "code",
   "execution_count": 6,
   "id": "6f4f464e",
   "metadata": {},
   "outputs": [
    {
     "data": {
      "image/png": "[encoded data removed]",
      "text/plain": [
       "<Figure size 800x500 with 1 Axes>"
      ]
     },
     "metadata": {},
     "output_type": "display_data"
    }
   ],
   "source": [
    "plt.figure(figsize=(8, 5))                               # Set the figure size to 8x5 inches\n",
    "\n",
    "sns.violinplot(                                          # Draw a violin plot to show the distribution of values\n",
    "    data=df,                                             # Use the DataFrame created earlier\n",
    "    x=\"Chalcogen\",                                       # X-axis: chalcogen element (S, Se, Te)\n",
    "    y=\"Band Gap (eV)\",                                   # Y-axis: raw band gap values\n",
    "    order=order,                                         # Ensure elements are ordered by atomic mass\n",
    "    inner=\"quartile\",                                    # Show quartile lines inside each violin\n",
    "    linewidth=1                                          # Set the outline thickness of the violins\n",
    ")\n",
    "\n",
    "plt.title(\"Band Gap Distributions by Chalcogen\")         # Set the plot title\n",
    "plt.xlabel(\"Chalcogen\")                                  # Label the X-axis\n",
    "plt.ylabel(\"Band Gap (eV)\")                              # Label the Y-axis\n",
    "plt.tight_layout()                                       # Adjust layout to avoid overlapping labels/margins\n",
    "plt.savefig(\"band_gap_violin.png\", dpi=300)              # Save the figure as a PNG with 300 dpi resolution\n",
    "plt.show()                                               # Display the plot (e.g., in Jupyter or scripts)\n"
   ]
  },
  {
   "cell_type": "code",
   "execution_count": 7,
   "id": "6b765d20",
   "metadata": {},
   "outputs": [
    {
     "name": "stdout",
     "output_type": "stream",
     "text": [
      "Random binary chalcogenide candidate:\n",
      "  MP-ID: mp-1209952\n",
      "  Formula: Pr3CrS6\n",
      "  Corrected Gap: 1.24 eV\n",
      "  Energy above hull: 0.0066 eV\n"
     ]
    }
   ],
   "source": [
    "if candidates:                                           # Check if any good candidate materials were found\n",
    "    mid, formula, cg, hull = random.choice(candidates)  # Randomly select one candidate from the list\n",
    "\n",
    "    print(\"Random binary chalcogenide candidate:\")       # Print a header\n",
    "    print(f\"  MP-ID: {mid}\")                             # Print Materials Project ID\n",
    "    print(f\"  Formula: {formula}\")                       # Print chemical formula\n",
    "    print(f\"  Corrected Gap: {cg:.2f} eV\")               # Print corrected band gap (2 decimal places)\n",
    "    print(f\"  Energy above hull: {hull:.4f} eV\")         # Print energy above hull (4 decimal places)\n",
    "\n",
    "else:\n",
    "    print(\"No binary candidates found.\")                 # Inform the user if no candidates matched the criteria\n"
   ]
  },
  {
   "cell_type": "code",
   "execution_count": 8,
   "id": "5762fdac",
   "metadata": {},
   "outputs": [
    {
     "name": "stdout",
     "output_type": "stream",
     "text": [
      "Chemical system: Pr-Cr-S\n"
     ]
    },
    {
     "name": "stderr",
     "output_type": "stream",
     "text": [
      "/Users/alex/anaconda3/envs/work/lib/python3.10/site-packages/mp_api/client/mprester.py:230: UserWarning: mpcontribs-client not installed. Install the package to query MPContribs data, or construct pourbaix diagrams: 'pip install mpcontribs-client'\n",
      "  warnings.warn(\n"
     ]
    },
    {
     "data": {
      "application/vnd.jupyter.widget-view+json": {
       "model_id": "6862e0e503f74bc2944a1becb312a365",
       "version_major": 2,
       "version_minor": 0
      },
      "text/plain": [
       "Retrieving SummaryDoc documents:   0%|          | 0/52 [00:00<?, ?it/s]"
      ]
     },
     "metadata": {},
     "output_type": "display_data"
    },
    {
     "data": {
      "application/vnd.jupyter.widget-view+json": {
       "model_id": "1273139b9b124430b5aa2c5f3da2d4ee",
       "version_major": 2,
       "version_minor": 0
      },
      "text/plain": [
       "Retrieving ThermoDoc documents:   0%|          | 0/133 [00:00<?, ?it/s]"
      ]
     },
     "metadata": {},
     "output_type": "display_data"
    },
    {
     "data": {
      "application/vnd.plotly.v1+json": {
       "config": {
        "plotlyServerURL": "https://plot.ly"
       },
       "data": [
        {
         "a": [
          12,
          0,
          null,
          0,
          0,
          null,
          12,
          6,
          null,
          0,
          6,
          null,
          12,
          0,
          null,
          0,
          6,
          null
         ],
         "b": [
          4,
          0,
          null,
          0,
          2,
          null,
          4,
          0,
          null,
          2,
          0,
          null,
          4,
          2,
          null,
          0,
          0,
          null
         ],
         "c": [
          24,
          32,
          null,
          32,
          0,
          null,
          24,
          0,
          null,
          0,
          0,
          null,
          24,
          0,
          null,
          32,
          0,
          null
         ],
         "hoverinfo": "none",
         "line": {
          "color": "black",
          "width": 1.5
         },
         "mode": "lines",
         "showlegend": false,
         "type": "scatterternary"
        },
        {
         "a": [
          0,
          12,
          0
         ],
         "b": [
          2,
          4,
          0
         ],
         "c": [
          0,
          24,
          32
         ],
         "fill": "toself",
         "fillcolor": "#2E91E5",
         "hovertemplate": "<extra></extra>",
         "line": {
          "width": 0
         },
         "mode": "lines",
         "name": "Cr—Pr<sub>3</sub>CrS<sub>6</sub>—S",
         "opacity": 0.15,
         "showlegend": false,
         "type": "scatterternary"
        },
        {
         "a": [
          6,
          12,
          0
         ],
         "b": [
          0,
          4,
          0
         ],
         "c": [
          0,
          24,
          32
         ],
         "fill": "toself",
         "fillcolor": "#E15F99",
         "hovertemplate": "<extra></extra>",
         "line": {
          "width": 0
         },
         "mode": "lines",
         "name": "Pr—Pr<sub>3</sub>CrS<sub>6</sub>—S",
         "opacity": 0.15,
         "showlegend": false,
         "type": "scatterternary"
        },
        {
         "a": [
          0,
          6,
          12
         ],
         "b": [
          2,
          0,
          4
         ],
         "c": [
          0,
          0,
          24
         ],
         "fill": "toself",
         "fillcolor": "#1CA71C",
         "hovertemplate": "<extra></extra>",
         "line": {
          "width": 0
         },
         "mode": "lines",
         "name": "Cr—Pr—Pr<sub>3</sub>CrS<sub>6</sub>",
         "opacity": 0.15,
         "showlegend": false,
         "type": "scatterternary"
        },
        {
         "a": [
          12,
          0,
          0,
          6
         ],
         "b": [
          4,
          0,
          2,
          0
         ],
         "c": [
          24,
          32,
          0,
          0
         ],
         "cliponaxis": false,
         "hoverinfo": "text",
         "hoverlabel": {
          "font": {
           "size": 14
          }
         },
         "hovertext": [
          "Pr<sub>3</sub>CrS<sub>6</sub> (mp-1209952-r2SCAN) <br>  Formation energy: -2.025 eV/atom <br>  (Stable)<br><br> Pr: 0.3<br> Cr: 0.1<br> S: 0.6",
          "S (mp-77-r2SCAN) <br>  Formation energy: 0.0 eV/atom <br>  (Stable)<br><br> Pr: 0.0<br> Cr: 0.0<br> S: 1.0",
          "Cr (mp-90-r2SCAN) <br>  Formation energy: 0.0 eV/atom <br>  (Stable)<br><br> Pr: 0.0<br> Cr: 1.0<br> S: 0.0",
          "Pr (mp-97-r2SCAN) <br>  Formation energy: 0.0 eV/atom <br>  (Stable)<br><br> Pr: 1.0<br> Cr: 0.0<br> S: 0.0"
         ],
         "marker": {
          "color": "green",
          "line": {
           "color": "black",
           "width": 2
          },
          "size": 15,
          "symbol": "circle"
         },
         "mode": "markers",
         "name": "Stable",
         "showlegend": true,
         "type": "scatterternary"
        },
        {
         "a": [
          0,
          0,
          0,
          0,
          0,
          0,
          0,
          0,
          0,
          0,
          0,
          0,
          0,
          0,
          0,
          0,
          0,
          0,
          0,
          0,
          1,
          1,
          1,
          3,
          2,
          2,
          2,
          3,
          4,
          6
         ],
         "b": [
          0,
          0,
          0,
          0,
          0,
          0,
          0,
          0,
          0,
          0,
          0,
          0,
          0,
          0,
          0,
          0,
          0,
          0,
          0,
          0,
          0,
          0,
          0,
          0,
          0,
          0,
          0,
          0,
          0,
          0
         ],
         "c": [
          88,
          28,
          104,
          32,
          20,
          36,
          28,
          48,
          24,
          80,
          80,
          80,
          9,
          72,
          72,
          32,
          6,
          56,
          32,
          8,
          0,
          0,
          0,
          0,
          0,
          0,
          0,
          0,
          0,
          0
         ],
         "cliponaxis": false,
         "hoverinfo": "text",
         "hoverlabel": {
          "font": {
           "size": 14
          }
         },
         "hovertext": [
          "S (mp-561370-r2SCAN) <br>  Formation energy: 0.028 eV/atom <br>  Energy Above Hull: (+0.028 eV/atom)<br><br> Pr: 0.0<br> Cr: 0.0<br> S: 1.0",
          "S (mp-561513-r2SCAN) <br>  Formation energy: 0.019 eV/atom <br>  Energy Above Hull: (+0.019 eV/atom)<br><br> Pr: 0.0<br> Cr: 0.0<br> S: 1.0",
          "S (mp-583072-r2SCAN) <br>  Formation energy: 0.026 eV/atom <br>  Energy Above Hull: (+0.026 eV/atom)<br><br> Pr: 0.0<br> Cr: 0.0<br> S: 1.0",
          "S (mp-666931-GGA) <br>  Formation energy: 0.021 eV/atom <br>  Energy Above Hull: (+0.021 eV/atom)<br><br> Pr: 0.0<br> Cr: 0.0<br> S: 1.0",
          "S (mp-557376-r2SCAN) <br>  Formation energy: 0.027 eV/atom <br>  Energy Above Hull: (+0.027 eV/atom)<br><br> Pr: 0.0<br> Cr: 0.0<br> S: 1.0",
          "S (mp-557488-r2SCAN) <br>  Formation energy: 0.012 eV/atom <br>  Energy Above Hull: (+0.012 eV/atom)<br><br> Pr: 0.0<br> Cr: 0.0<br> S: 1.0",
          "S (mp-557559-r2SCAN) <br>  Formation energy: 0.03 eV/atom <br>  Energy Above Hull: (+0.03 eV/atom)<br><br> Pr: 0.0<br> Cr: 0.0<br> S: 1.0",
          "S (mp-557869-r2SCAN) <br>  Formation energy: 0.0 eV/atom <br>  Energy Above Hull: (+0.0 eV/atom)<br><br> Pr: 0.0<br> Cr: 0.0<br> S: 1.0",
          "S (mp-558014-r2SCAN) <br>  Formation energy: 0.01 eV/atom <br>  Energy Above Hull: (+0.01 eV/atom)<br><br> Pr: 0.0<br> Cr: 0.0<br> S: 1.0",
          "S (mp-558964-r2SCAN) <br>  Formation energy: 0.014 eV/atom <br>  Energy Above Hull: (+0.014 eV/atom)<br><br> Pr: 0.0<br> Cr: 0.0<br> S: 1.0",
          "S (mp-1196831-GGA) <br>  Formation energy: 0.011 eV/atom <br>  Energy Above Hull: (+0.011 eV/atom)<br><br> Pr: 0.0<br> Cr: 0.0<br> S: 1.0",
          "S (mp-1977409-r2SCAN) <br>  Formation energy: 0.006 eV/atom <br>  Energy Above Hull: (+0.006 eV/atom)<br><br> Pr: 0.0<br> Cr: 0.0<br> S: 1.0",
          "S (mp-555760-r2SCAN) <br>  Formation energy: 0.029 eV/atom <br>  Energy Above Hull: (+0.029 eV/atom)<br><br> Pr: 0.0<br> Cr: 0.0<br> S: 1.0",
          "S (mp-555915-r2SCAN) <br>  Formation energy: 0.014 eV/atom <br>  Energy Above Hull: (+0.014 eV/atom)<br><br> Pr: 0.0<br> Cr: 0.0<br> S: 1.0",
          "S (mp-556269-r2SCAN) <br>  Formation energy: 0.031 eV/atom <br>  Energy Above Hull: (+0.031 eV/atom)<br><br> Pr: 0.0<br> Cr: 0.0<br> S: 1.0",
          "S (mp-557031-r2SCAN) <br>  Formation energy: 0.034 eV/atom <br>  Energy Above Hull: (+0.034 eV/atom)<br><br> Pr: 0.0<br> Cr: 0.0<br> S: 1.0",
          "S (mp-7-r2SCAN) <br>  Formation energy: 0.051 eV/atom <br>  Energy Above Hull: (+0.051 eV/atom)<br><br> Pr: 0.0<br> Cr: 0.0<br> S: 1.0",
          "S (mp-83-r2SCAN) <br>  Formation energy: 0.029 eV/atom <br>  Energy Above Hull: (+0.029 eV/atom)<br><br> Pr: 0.0<br> Cr: 0.0<br> S: 1.0",
          "S (mp-96-r2SCAN) <br>  Formation energy: 0.001 eV/atom <br>  Energy Above Hull: (+0.001 eV/atom)<br><br> Pr: 0.0<br> Cr: 0.0<br> S: 1.0",
          "S (mp-994911-r2SCAN) <br>  Formation energy: 0.042 eV/atom <br>  Energy Above Hull: (+0.042 eV/atom)<br><br> Pr: 0.0<br> Cr: 0.0<br> S: 1.0",
          "Pr (mp-568938-r2SCAN) <br>  Formation energy: 0.112 eV/atom <br>  Energy Above Hull: (+0.112 eV/atom)<br><br> Pr: 1.0<br> Cr: 0.0<br> S: 0.0",
          "Pr (mp-63-r2SCAN) <br>  Formation energy: 0.126 eV/atom <br>  Energy Above Hull: (+0.126 eV/atom)<br><br> Pr: 1.0<br> Cr: 0.0<br> S: 0.0",
          "Pr (mp-97-GGA) <br>  Formation energy: 0.008 eV/atom <br>  Energy Above Hull: (+0.008 eV/atom)<br><br> Pr: 1.0<br> Cr: 0.0<br> S: 0.0",
          "Pr (mp-981544-r2SCAN) <br>  Formation energy: 0.023 eV/atom <br>  Energy Above Hull: (+0.023 eV/atom)<br><br> Pr: 1.0<br> Cr: 0.0<br> S: 0.0",
          "Pr (mp-1009594-r2SCAN) <br>  Formation energy: 0.047 eV/atom <br>  Energy Above Hull: (+0.047 eV/atom)<br><br> Pr: 1.0<br> Cr: 0.0<br> S: 0.0",
          "Pr (mp-1059256-r2SCAN) <br>  Formation energy: 0.046 eV/atom <br>  Energy Above Hull: (+0.046 eV/atom)<br><br> Pr: 1.0<br> Cr: 0.0<br> S: 0.0",
          "Pr (mp-1059528-GGA) <br>  Formation energy: 0.01 eV/atom <br>  Energy Above Hull: (+0.01 eV/atom)<br><br> Pr: 1.0<br> Cr: 0.0<br> S: 0.0",
          "Pr (mp-1179917-r2SCAN) <br>  Formation energy: 0.035 eV/atom <br>  Energy Above Hull: (+0.035 eV/atom)<br><br> Pr: 1.0<br> Cr: 0.0<br> S: 0.0",
          "Pr (mp-38-r2SCAN) <br>  Formation energy: 0.015 eV/atom <br>  Energy Above Hull: (+0.015 eV/atom)<br><br> Pr: 1.0<br> Cr: 0.0<br> S: 0.0",
          "Pr (mp-567630-GGA) <br>  Formation energy: 0.008 eV/atom <br>  Energy Above Hull: (+0.008 eV/atom)<br><br> Pr: 1.0<br> Cr: 0.0<br> S: 0.0"
         ],
         "marker": {
          "color": [
           0.028,
           0.019,
           0.026,
           0.021,
           0.027,
           0.012,
           0.03,
           0,
           0.01,
           0.014,
           0.011,
           0.006,
           0.029,
           0.014,
           0.031,
           0.034,
           0.051,
           0.029,
           0.001,
           0.042,
           0.112,
           0.126,
           0.008,
           0.023,
           0.047,
           0.046,
           0.01,
           0.035,
           0.015,
           0.008
          ],
          "colorbar": {
           "len": 0.5,
           "thickness": 0.02,
           "thicknessmode": "fraction",
           "title": {
            "text": "Energy Above Hull<br>(eV/atom)"
           },
           "x": 0,
           "xpad": 0,
           "y": 1,
           "yanchor": "top",
           "ypad": 0
          },
          "colorscale": [
           [
            0,
            "#fff5e3"
           ],
           [
            0.5,
            "#f24324"
           ],
           [
            1,
            "#c40000"
           ]
          ],
          "line": {
           "color": "black",
           "width": 1
          },
          "opacity": 0.8,
          "size": 7,
          "symbol": "diamond"
         },
         "mode": "markers",
         "name": "Above Hull",
         "showlegend": true,
         "type": "scatterternary"
        }
       ],
       "layout": {
        "autosize": true,
        "coloraxis": {
         "colorbar": {
          "x": 1,
          "y": 0.05,
          "yanchor": "top"
         }
        },
        "margin": {
         "b": 40,
         "l": 20,
         "r": 20,
         "t": 40
        },
        "paper_bgcolor": "rgba(0,0,0,0)",
        "plot_bgcolor": "rgba(0,0,0,0)",
        "showlegend": true,
        "template": {
         "data": {
          "bar": [
           {
            "error_x": {
             "color": "#2a3f5f"
            },
            "error_y": {
             "color": "#2a3f5f"
            },
            "marker": {
             "line": {
              "color": "#E5ECF6",
              "width": 0.5
             },
             "pattern": {
              "fillmode": "overlay",
              "size": 10,
              "solidity": 0.2
             }
            },
            "type": "bar"
           }
          ],
          "barpolar": [
           {
            "marker": {
             "line": {
              "color": "#E5ECF6",
              "width": 0.5
             },
             "pattern": {
              "fillmode": "overlay",
              "size": 10,
              "solidity": 0.2
             }
            },
            "type": "barpolar"
           }
          ],
          "carpet": [
           {
            "aaxis": {
             "endlinecolor": "#2a3f5f",
             "gridcolor": "white",
             "linecolor": "white",
             "minorgridcolor": "white",
             "startlinecolor": "#2a3f5f"
            },
            "baxis": {
             "endlinecolor": "#2a3f5f",
             "gridcolor": "white",
             "linecolor": "white",
             "minorgridcolor": "white",
             "startlinecolor": "#2a3f5f"
            },
            "type": "carpet"
           }
          ],
          "choropleth": [
           {
            "colorbar": {
             "outlinewidth": 0,
             "ticks": ""
            },
            "type": "choropleth"
           }
          ],
          "contour": [
           {
            "colorbar": {
             "outlinewidth": 0,
             "ticks": ""
            },
            "colorscale": [
             [
              0,
              "#0d0887"
             ],
             [
              0.1111111111111111,
              "#46039f"
             ],
             [
              0.2222222222222222,
              "#7201a8"
             ],
             [
              0.3333333333333333,
              "#9c179e"
             ],
             [
              0.4444444444444444,
              "#bd3786"
             ],
             [
              0.5555555555555556,
              "#d8576b"
             ],
             [
              0.6666666666666666,
              "#ed7953"
             ],
             [
              0.7777777777777778,
              "#fb9f3a"
             ],
             [
              0.8888888888888888,
              "#fdca26"
             ],
             [
              1,
              "#f0f921"
             ]
            ],
            "type": "contour"
           }
          ],
          "contourcarpet": [
           {
            "colorbar": {
             "outlinewidth": 0,
             "ticks": ""
            },
            "type": "contourcarpet"
           }
          ],
          "heatmap": [
           {
            "colorbar": {
             "outlinewidth": 0,
             "ticks": ""
            },
            "colorscale": [
             [
              0,
              "#0d0887"
             ],
             [
              0.1111111111111111,
              "#46039f"
             ],
             [
              0.2222222222222222,
              "#7201a8"
             ],
             [
              0.3333333333333333,
              "#9c179e"
             ],
             [
              0.4444444444444444,
              "#bd3786"
             ],
             [
              0.5555555555555556,
              "#d8576b"
             ],
             [
              0.6666666666666666,
              "#ed7953"
             ],
             [
              0.7777777777777778,
              "#fb9f3a"
             ],
             [
              0.8888888888888888,
              "#fdca26"
             ],
             [
              1,
              "#f0f921"
             ]
            ],
            "type": "heatmap"
           }
          ],
          "heatmapgl": [
           {
            "colorbar": {
             "outlinewidth": 0,
             "ticks": ""
            },
            "colorscale": [
             [
              0,
              "#0d0887"
             ],
             [
              0.1111111111111111,
              "#46039f"
             ],
             [
              0.2222222222222222,
              "#7201a8"
             ],
             [
              0.3333333333333333,
              "#9c179e"
             ],
             [
              0.4444444444444444,
              "#bd3786"
             ],
             [
              0.5555555555555556,
              "#d8576b"
             ],
             [
              0.6666666666666666,
              "#ed7953"
             ],
             [
              0.7777777777777778,
              "#fb9f3a"
             ],
             [
              0.8888888888888888,
              "#fdca26"
             ],
             [
              1,
              "#f0f921"
             ]
            ],
            "type": "heatmapgl"
           }
          ],
          "histogram": [
           {
            "marker": {
             "pattern": {
              "fillmode": "overlay",
              "size": 10,
              "solidity": 0.2
             }
            },
            "type": "histogram"
           }
          ],
          "histogram2d": [
           {
            "colorbar": {
             "outlinewidth": 0,
             "ticks": ""
            },
            "colorscale": [
             [
              0,
              "#0d0887"
             ],
             [
              0.1111111111111111,
              "#46039f"
             ],
             [
              0.2222222222222222,
              "#7201a8"
             ],
             [
              0.3333333333333333,
              "#9c179e"
             ],
             [
              0.4444444444444444,
              "#bd3786"
             ],
             [
              0.5555555555555556,
              "#d8576b"
             ],
             [
              0.6666666666666666,
              "#ed7953"
             ],
             [
              0.7777777777777778,
              "#fb9f3a"
             ],
             [
              0.8888888888888888,
              "#fdca26"
             ],
             [
              1,
              "#f0f921"
             ]
            ],
            "type": "histogram2d"
           }
          ],
          "histogram2dcontour": [
           {
            "colorbar": {
             "outlinewidth": 0,
             "ticks": ""
            },
            "colorscale": [
             [
              0,
              "#0d0887"
             ],
             [
              0.1111111111111111,
              "#46039f"
             ],
             [
              0.2222222222222222,
              "#7201a8"
             ],
             [
              0.3333333333333333,
              "#9c179e"
             ],
             [
              0.4444444444444444,
              "#bd3786"
             ],
             [
              0.5555555555555556,
              "#d8576b"
             ],
             [
              0.6666666666666666,
              "#ed7953"
             ],
             [
              0.7777777777777778,
              "#fb9f3a"
             ],
             [
              0.8888888888888888,
              "#fdca26"
             ],
             [
              1,
              "#f0f921"
             ]
            ],
            "type": "histogram2dcontour"
           }
          ],
          "mesh3d": [
           {
            "colorbar": {
             "outlinewidth": 0,
             "ticks": ""
            },
            "type": "mesh3d"
           }
          ],
          "parcoords": [
           {
            "line": {
             "colorbar": {
              "outlinewidth": 0,
              "ticks": ""
             }
            },
            "type": "parcoords"
           }
          ],
          "pie": [
           {
            "automargin": true,
            "type": "pie"
           }
          ],
          "scatter": [
           {
            "fillpattern": {
             "fillmode": "overlay",
             "size": 10,
             "solidity": 0.2
            },
            "type": "scatter"
           }
          ],
          "scatter3d": [
           {
            "line": {
             "colorbar": {
              "outlinewidth": 0,
              "ticks": ""
             }
            },
            "marker": {
             "colorbar": {
              "outlinewidth": 0,
              "ticks": ""
             }
            },
            "type": "scatter3d"
           }
          ],
          "scattercarpet": [
           {
            "marker": {
             "colorbar": {
              "outlinewidth": 0,
              "ticks": ""
             }
            },
            "type": "scattercarpet"
           }
          ],
          "scattergeo": [
           {
            "marker": {
             "colorbar": {
              "outlinewidth": 0,
              "ticks": ""
             }
            },
            "type": "scattergeo"
           }
          ],
          "scattergl": [
           {
            "marker": {
             "colorbar": {
              "outlinewidth": 0,
              "ticks": ""
             }
            },
            "type": "scattergl"
           }
          ],
          "scattermapbox": [
           {
            "marker": {
             "colorbar": {
              "outlinewidth": 0,
              "ticks": ""
             }
            },
            "type": "scattermapbox"
           }
          ],
          "scatterpolar": [
           {
            "marker": {
             "colorbar": {
              "outlinewidth": 0,
              "ticks": ""
             }
            },
            "type": "scatterpolar"
           }
          ],
          "scatterpolargl": [
           {
            "marker": {
             "colorbar": {
              "outlinewidth": 0,
              "ticks": ""
             }
            },
            "type": "scatterpolargl"
           }
          ],
          "scatterternary": [
           {
            "marker": {
             "colorbar": {
              "outlinewidth": 0,
              "ticks": ""
             }
            },
            "type": "scatterternary"
           }
          ],
          "surface": [
           {
            "colorbar": {
             "outlinewidth": 0,
             "ticks": ""
            },
            "colorscale": [
             [
              0,
              "#0d0887"
             ],
             [
              0.1111111111111111,
              "#46039f"
             ],
             [
              0.2222222222222222,
              "#7201a8"
             ],
             [
              0.3333333333333333,
              "#9c179e"
             ],
             [
              0.4444444444444444,
              "#bd3786"
             ],
             [
              0.5555555555555556,
              "#d8576b"
             ],
             [
              0.6666666666666666,
              "#ed7953"
             ],
             [
              0.7777777777777778,
              "#fb9f3a"
             ],
             [
              0.8888888888888888,
              "#fdca26"
             ],
             [
              1,
              "#f0f921"
             ]
            ],
            "type": "surface"
           }
          ],
          "table": [
           {
            "cells": {
             "fill": {
              "color": "#EBF0F8"
             },
             "line": {
              "color": "white"
             }
            },
            "header": {
             "fill": {
              "color": "#C8D4E3"
             },
             "line": {
              "color": "white"
             }
            },
            "type": "table"
           }
          ]
         },
         "layout": {
          "annotationdefaults": {
           "arrowcolor": "#2a3f5f",
           "arrowhead": 0,
           "arrowwidth": 1
          },
          "autotypenumbers": "strict",
          "coloraxis": {
           "colorbar": {
            "outlinewidth": 0,
            "ticks": ""
           }
          },
          "colorscale": {
           "diverging": [
            [
             0,
             "#8e0152"
            ],
            [
             0.1,
             "#c51b7d"
            ],
            [
             0.2,
             "#de77ae"
            ],
            [
             0.3,
             "#f1b6da"
            ],
            [
             0.4,
             "#fde0ef"
            ],
            [
             0.5,
             "#f7f7f7"
            ],
            [
             0.6,
             "#e6f5d0"
            ],
            [
             0.7,
             "#b8e186"
            ],
            [
             0.8,
             "#7fbc41"
            ],
            [
             0.9,
             "#4d9221"
            ],
            [
             1,
             "#276419"
            ]
           ],
           "sequential": [
            [
             0,
             "#0d0887"
            ],
            [
             0.1111111111111111,
             "#46039f"
            ],
            [
             0.2222222222222222,
             "#7201a8"
            ],
            [
             0.3333333333333333,
             "#9c179e"
            ],
            [
             0.4444444444444444,
             "#bd3786"
            ],
            [
             0.5555555555555556,
             "#d8576b"
            ],
            [
             0.6666666666666666,
             "#ed7953"
            ],
            [
             0.7777777777777778,
             "#fb9f3a"
            ],
            [
             0.8888888888888888,
             "#fdca26"
            ],
            [
             1,
             "#f0f921"
            ]
           ],
           "sequentialminus": [
            [
             0,
             "#0d0887"
            ],
            [
             0.1111111111111111,
             "#46039f"
            ],
            [
             0.2222222222222222,
             "#7201a8"
            ],
            [
             0.3333333333333333,
             "#9c179e"
            ],
            [
             0.4444444444444444,
             "#bd3786"
            ],
            [
             0.5555555555555556,
             "#d8576b"
            ],
            [
             0.6666666666666666,
             "#ed7953"
            ],
            [
             0.7777777777777778,
             "#fb9f3a"
            ],
            [
             0.8888888888888888,
             "#fdca26"
            ],
            [
             1,
             "#f0f921"
            ]
           ]
          },
          "colorway": [
           "#636efa",
           "#EF553B",
           "#00cc96",
           "#ab63fa",
           "#FFA15A",
           "#19d3f3",
           "#FF6692",
           "#B6E880",
           "#FF97FF",
           "#FECB52"
          ],
          "font": {
           "color": "#2a3f5f"
          },
          "geo": {
           "bgcolor": "white",
           "lakecolor": "white",
           "landcolor": "#E5ECF6",
           "showlakes": true,
           "showland": true,
           "subunitcolor": "white"
          },
          "hoverlabel": {
           "align": "left"
          },
          "hovermode": "closest",
          "mapbox": {
           "style": "light"
          },
          "paper_bgcolor": "white",
          "plot_bgcolor": "#E5ECF6",
          "polar": {
           "angularaxis": {
            "gridcolor": "white",
            "linecolor": "white",
            "ticks": ""
           },
           "bgcolor": "#E5ECF6",
           "radialaxis": {
            "gridcolor": "white",
            "linecolor": "white",
            "ticks": ""
           }
          },
          "scene": {
           "xaxis": {
            "backgroundcolor": "#E5ECF6",
            "gridcolor": "white",
            "gridwidth": 2,
            "linecolor": "white",
            "showbackground": true,
            "ticks": "",
            "zerolinecolor": "white"
           },
           "yaxis": {
            "backgroundcolor": "#E5ECF6",
            "gridcolor": "white",
            "gridwidth": 2,
            "linecolor": "white",
            "showbackground": true,
            "ticks": "",
            "zerolinecolor": "white"
           },
           "zaxis": {
            "backgroundcolor": "#E5ECF6",
            "gridcolor": "white",
            "gridwidth": 2,
            "linecolor": "white",
            "showbackground": true,
            "ticks": "",
            "zerolinecolor": "white"
           }
          },
          "shapedefaults": {
           "line": {
            "color": "#2a3f5f"
           }
          },
          "ternary": {
           "aaxis": {
            "gridcolor": "white",
            "linecolor": "white",
            "ticks": ""
           },
           "baxis": {
            "gridcolor": "white",
            "linecolor": "white",
            "ticks": ""
           },
           "bgcolor": "#E5ECF6",
           "caxis": {
            "gridcolor": "white",
            "linecolor": "white",
            "ticks": ""
           }
          },
          "title": {
           "x": 0.05
          },
          "xaxis": {
           "automargin": true,
           "gridcolor": "white",
           "linecolor": "white",
           "ticks": "",
           "title": {
            "standoff": 15
           },
           "zerolinecolor": "white",
           "zerolinewidth": 2
          },
          "yaxis": {
           "automargin": true,
           "gridcolor": "white",
           "linecolor": "white",
           "ticks": "",
           "title": {
            "standoff": 15
           },
           "zerolinecolor": "white",
           "zerolinewidth": 2
          }
         }
        },
        "ternary": {
         "aaxis": {
          "layer": "below traces",
          "showgrid": true,
          "showticklabels": true,
          "tickfont": {
           "color": "rgba(0,0,0,0)",
           "size": 7
          },
          "title": {
           "font": {
            "size": 24
           },
           "text": "Pr"
          }
         },
         "baxis": {
          "layer": "below traces",
          "min": 0,
          "showgrid": true,
          "showticklabels": true,
          "tickfont": {
           "color": "rgba(0,0,0,0)",
           "size": 7
          },
          "title": {
           "font": {
            "size": 24
           },
           "text": "Cr"
          }
         },
         "caxis": {
          "layer": "below traces",
          "min": 0,
          "showgrid": true,
          "showticklabels": true,
          "tickfont": {
           "color": "rgba(0,0,0,0)",
           "size": 7
          },
          "title": {
           "font": {
            "size": 24
           },
           "text": "S"
          }
         },
         "sum": 1
        }
       }
      }
     },
     "metadata": {},
     "output_type": "display_data"
    }
   ],
   "source": [
    "chemsys = Composition(formula).elements                 # Get a list of Element objects from the formula\n",
    "parts = [str(el) for el in chemsys]                     # Convert elements to strings (e.g. [\"Cu\", \"Fe\", \"S\"])\n",
    "single = \"-\".join(parts) + \"-\"                          # Construct a chemical system string like \"Cu-Fe-S-\"\n",
    "print(f\"Chemical system: {single[:-1]}\")                # Print the chemical system (remove trailing dash)\n",
    "\n",
    "# 2. Connect and fetch only experimentally observed entries for the system\n",
    "with MPRester(API_KEY) as mpr:                          # Connect to Materials Project with API key\n",
    "    # Search for entries in the chemical system\n",
    "    # 'theoretical = True' means it’s a predicted structure, not observed experimentally\n",
    "    docs = mpr.materials.summary.search(\n",
    "        chemsys=[single[:-1]] + [s for s in parts],     # Search full system and individual elements\n",
    "        fields=[\"material_id\", \"theoretical\"]           # Only retrieve ID and theoretical flag\n",
    "    )\n",
    "\n",
    "ids = [d.material_id for d in docs]                     # Extract the material IDs from the results\n",
    "\n",
    "# 3. Download full entry data for those IDs\n",
    "with MPRester(API_KEY) as mpr:                          # Reconnect to fetch full entry data\n",
    "    exp_entries = mpr.get_entries(ids)                  # Get full entries for phase diagram construction\n",
    "\n",
    "# 4. Build and show the phase diagram\n",
    "pd_exp = PhaseDiagram(exp_entries)                      # Create a phase diagram from the entries\n",
    "plotter = PDPlotter(pd_exp)                             # Initialize the plotting tool\n",
    "plotter.show()                                          # Display the phase diagram"
   ]
  }
 ],
 "metadata": {
  "kernelspec": {
   "display_name": "work",
   "language": "python",
   "name": "python3"
  },
  "language_info": {
   "codemirror_mode": {
    "name": "ipython",
    "version": 3
   },
   "file_extension": ".py",
   "mimetype": "text/x-python",
   "name": "python",
   "nbconvert_exporter": "python",
   "pygments_lexer": "ipython3",
   "version": "3.10.9"
  }
 },
 "nbformat": 4,
 "nbformat_minor": 5
}
